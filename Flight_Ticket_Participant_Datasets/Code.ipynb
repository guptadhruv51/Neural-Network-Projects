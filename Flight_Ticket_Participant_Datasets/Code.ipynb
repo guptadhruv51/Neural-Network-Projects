{
 "cells": [
  {
   "cell_type": "code",
   "execution_count": 1,
   "metadata": {},
   "outputs": [
    {
     "name": "stderr",
     "output_type": "stream",
     "text": [
      "/Users/guptadhruv51/anaconda3/lib/python3.6/site-packages/h5py/__init__.py:36: FutureWarning: Conversion of the second argument of issubdtype from `float` to `np.floating` is deprecated. In future, it will be treated as `np.float64 == np.dtype(float).type`.\n",
      "  from ._conv import register_converters as _register_converters\n",
      "Using TensorFlow backend.\n"
     ]
    }
   ],
   "source": [
    "import numpy as np\n",
    "import pandas as pd\n",
    "import matplotlib.pyplot as plt\n",
    "from tqdm import tqdm\n",
    "import keras \n",
    "import sklearn"
   ]
  },
  {
   "cell_type": "code",
   "execution_count": 2,
   "metadata": {},
   "outputs": [
    {
     "data": {
      "text/html": [
       "<div>\n",
       "<style scoped>\n",
       "    .dataframe tbody tr th:only-of-type {\n",
       "        vertical-align: middle;\n",
       "    }\n",
       "\n",
       "    .dataframe tbody tr th {\n",
       "        vertical-align: top;\n",
       "    }\n",
       "\n",
       "    .dataframe thead th {\n",
       "        text-align: right;\n",
       "    }\n",
       "</style>\n",
       "<table border=\"1\" class=\"dataframe\">\n",
       "  <thead>\n",
       "    <tr style=\"text-align: right;\">\n",
       "      <th></th>\n",
       "      <th>Airline</th>\n",
       "      <th>Date_of_Journey</th>\n",
       "      <th>Source</th>\n",
       "      <th>Destination</th>\n",
       "      <th>Route</th>\n",
       "      <th>Dep_Time</th>\n",
       "      <th>Arrival_Time</th>\n",
       "      <th>Duration</th>\n",
       "      <th>Total_Stops</th>\n",
       "      <th>Additional_Info</th>\n",
       "      <th>Price</th>\n",
       "    </tr>\n",
       "  </thead>\n",
       "  <tbody>\n",
       "    <tr>\n",
       "      <th>0</th>\n",
       "      <td>IndiGo</td>\n",
       "      <td>24/03/2019</td>\n",
       "      <td>Banglore</td>\n",
       "      <td>New Delhi</td>\n",
       "      <td>BLR → DEL</td>\n",
       "      <td>22:20</td>\n",
       "      <td>01:10 22 Mar</td>\n",
       "      <td>2h 50m</td>\n",
       "      <td>non-stop</td>\n",
       "      <td>No info</td>\n",
       "      <td>3897</td>\n",
       "    </tr>\n",
       "    <tr>\n",
       "      <th>1</th>\n",
       "      <td>Air India</td>\n",
       "      <td>1/05/2019</td>\n",
       "      <td>Kolkata</td>\n",
       "      <td>Banglore</td>\n",
       "      <td>CCU → IXR → BBI → BLR</td>\n",
       "      <td>05:50</td>\n",
       "      <td>13:15</td>\n",
       "      <td>7h 25m</td>\n",
       "      <td>2 stops</td>\n",
       "      <td>No info</td>\n",
       "      <td>7662</td>\n",
       "    </tr>\n",
       "    <tr>\n",
       "      <th>2</th>\n",
       "      <td>Jet Airways</td>\n",
       "      <td>9/06/2019</td>\n",
       "      <td>Delhi</td>\n",
       "      <td>Cochin</td>\n",
       "      <td>DEL → LKO → BOM → COK</td>\n",
       "      <td>09:25</td>\n",
       "      <td>04:25 10 Jun</td>\n",
       "      <td>19h</td>\n",
       "      <td>2 stops</td>\n",
       "      <td>No info</td>\n",
       "      <td>13882</td>\n",
       "    </tr>\n",
       "    <tr>\n",
       "      <th>3</th>\n",
       "      <td>IndiGo</td>\n",
       "      <td>12/05/2019</td>\n",
       "      <td>Kolkata</td>\n",
       "      <td>Banglore</td>\n",
       "      <td>CCU → NAG → BLR</td>\n",
       "      <td>18:05</td>\n",
       "      <td>23:30</td>\n",
       "      <td>5h 25m</td>\n",
       "      <td>1 stop</td>\n",
       "      <td>No info</td>\n",
       "      <td>6218</td>\n",
       "    </tr>\n",
       "    <tr>\n",
       "      <th>4</th>\n",
       "      <td>IndiGo</td>\n",
       "      <td>01/03/2019</td>\n",
       "      <td>Banglore</td>\n",
       "      <td>New Delhi</td>\n",
       "      <td>BLR → NAG → DEL</td>\n",
       "      <td>16:50</td>\n",
       "      <td>21:35</td>\n",
       "      <td>4h 45m</td>\n",
       "      <td>1 stop</td>\n",
       "      <td>No info</td>\n",
       "      <td>13302</td>\n",
       "    </tr>\n",
       "  </tbody>\n",
       "</table>\n",
       "</div>"
      ],
      "text/plain": [
       "       Airline Date_of_Journey    Source Destination                  Route  \\\n",
       "0       IndiGo      24/03/2019  Banglore   New Delhi              BLR → DEL   \n",
       "1    Air India       1/05/2019   Kolkata    Banglore  CCU → IXR → BBI → BLR   \n",
       "2  Jet Airways       9/06/2019     Delhi      Cochin  DEL → LKO → BOM → COK   \n",
       "3       IndiGo      12/05/2019   Kolkata    Banglore        CCU → NAG → BLR   \n",
       "4       IndiGo      01/03/2019  Banglore   New Delhi        BLR → NAG → DEL   \n",
       "\n",
       "  Dep_Time  Arrival_Time Duration Total_Stops Additional_Info  Price  \n",
       "0    22:20  01:10 22 Mar   2h 50m    non-stop         No info   3897  \n",
       "1    05:50         13:15   7h 25m     2 stops         No info   7662  \n",
       "2    09:25  04:25 10 Jun      19h     2 stops         No info  13882  \n",
       "3    18:05         23:30   5h 25m      1 stop         No info   6218  \n",
       "4    16:50         21:35   4h 45m      1 stop         No info  13302  "
      ]
     },
     "execution_count": 2,
     "metadata": {},
     "output_type": "execute_result"
    }
   ],
   "source": [
    "train_data=pd.read_excel('./Data_Train.xlsx')\n",
    "train_data.head()"
   ]
  },
  {
   "cell_type": "code",
   "execution_count": 3,
   "metadata": {},
   "outputs": [
    {
     "data": {
      "text/plain": [
       "(10683, 11)"
      ]
     },
     "execution_count": 3,
     "metadata": {},
     "output_type": "execute_result"
    }
   ],
   "source": [
    "train_data.shape"
   ]
  },
  {
   "cell_type": "code",
   "execution_count": 4,
   "metadata": {},
   "outputs": [
    {
     "name": "stdout",
     "output_type": "stream",
     "text": [
      "<class 'pandas.core.frame.DataFrame'>\n",
      "RangeIndex: 10683 entries, 0 to 10682\n",
      "Data columns (total 11 columns):\n",
      "Airline            10683 non-null object\n",
      "Date_of_Journey    10683 non-null object\n",
      "Source             10683 non-null object\n",
      "Destination        10683 non-null object\n",
      "Route              10682 non-null object\n",
      "Dep_Time           10683 non-null object\n",
      "Arrival_Time       10683 non-null object\n",
      "Duration           10683 non-null object\n",
      "Total_Stops        10682 non-null object\n",
      "Additional_Info    10683 non-null object\n",
      "Price              10683 non-null int64\n",
      "dtypes: int64(1), object(10)\n",
      "memory usage: 918.1+ KB\n"
     ]
    }
   ],
   "source": [
    "train_data.info()"
   ]
  },
  {
   "cell_type": "code",
   "execution_count": 5,
   "metadata": {},
   "outputs": [
    {
     "data": {
      "text/html": [
       "<div>\n",
       "<style scoped>\n",
       "    .dataframe tbody tr th:only-of-type {\n",
       "        vertical-align: middle;\n",
       "    }\n",
       "\n",
       "    .dataframe tbody tr th {\n",
       "        vertical-align: top;\n",
       "    }\n",
       "\n",
       "    .dataframe thead th {\n",
       "        text-align: right;\n",
       "    }\n",
       "</style>\n",
       "<table border=\"1\" class=\"dataframe\">\n",
       "  <thead>\n",
       "    <tr style=\"text-align: right;\">\n",
       "      <th></th>\n",
       "      <th>Airline</th>\n",
       "      <th>Date_of_Journey</th>\n",
       "      <th>Source</th>\n",
       "      <th>Destination</th>\n",
       "      <th>Route</th>\n",
       "      <th>Dep_Time</th>\n",
       "      <th>Arrival_Time</th>\n",
       "      <th>Duration</th>\n",
       "      <th>Total_Stops</th>\n",
       "      <th>Additional_Info</th>\n",
       "      <th>Price</th>\n",
       "    </tr>\n",
       "  </thead>\n",
       "  <tbody>\n",
       "    <tr>\n",
       "      <th>9039</th>\n",
       "      <td>Air India</td>\n",
       "      <td>6/05/2019</td>\n",
       "      <td>Delhi</td>\n",
       "      <td>Cochin</td>\n",
       "      <td>NaN</td>\n",
       "      <td>09:45</td>\n",
       "      <td>09:25 07 May</td>\n",
       "      <td>23h 40m</td>\n",
       "      <td>NaN</td>\n",
       "      <td>No info</td>\n",
       "      <td>7480</td>\n",
       "    </tr>\n",
       "  </tbody>\n",
       "</table>\n",
       "</div>"
      ],
      "text/plain": [
       "        Airline Date_of_Journey Source Destination Route Dep_Time  \\\n",
       "9039  Air India       6/05/2019  Delhi      Cochin   NaN    09:45   \n",
       "\n",
       "      Arrival_Time Duration Total_Stops Additional_Info  Price  \n",
       "9039  09:25 07 May  23h 40m         NaN         No info   7480  "
      ]
     },
     "execution_count": 5,
     "metadata": {},
     "output_type": "execute_result"
    }
   ],
   "source": [
    "train_data[train_data['Total_Stops'].isna()]"
   ]
  },
  {
   "cell_type": "code",
   "execution_count": 6,
   "metadata": {},
   "outputs": [
    {
     "data": {
      "text/plain": [
       "No info                         8345\n",
       "In-flight meal not included     1982\n",
       "No check-in baggage included     320\n",
       "1 Long layover                    19\n",
       "Change airports                    7\n",
       "Business class                     4\n",
       "No Info                            3\n",
       "1 Short layover                    1\n",
       "2 Long layover                     1\n",
       "Red-eye flight                     1\n",
       "Name: Additional_Info, dtype: int64"
      ]
     },
     "execution_count": 6,
     "metadata": {},
     "output_type": "execute_result"
    }
   ],
   "source": [
    "train_data['Additional_Info'].value_counts()"
   ]
  },
  {
   "cell_type": "code",
   "execution_count": 7,
   "metadata": {},
   "outputs": [
    {
     "data": {
      "text/html": [
       "<div>\n",
       "<style scoped>\n",
       "    .dataframe tbody tr th:only-of-type {\n",
       "        vertical-align: middle;\n",
       "    }\n",
       "\n",
       "    .dataframe tbody tr th {\n",
       "        vertical-align: top;\n",
       "    }\n",
       "\n",
       "    .dataframe thead th {\n",
       "        text-align: right;\n",
       "    }\n",
       "</style>\n",
       "<table border=\"1\" class=\"dataframe\">\n",
       "  <thead>\n",
       "    <tr style=\"text-align: right;\">\n",
       "      <th></th>\n",
       "      <th>Airline</th>\n",
       "      <th>Date_of_Journey</th>\n",
       "      <th>Source</th>\n",
       "      <th>Destination</th>\n",
       "      <th>Route</th>\n",
       "      <th>Dep_Time</th>\n",
       "      <th>Arrival_Time</th>\n",
       "      <th>Duration</th>\n",
       "      <th>Total_Stops</th>\n",
       "      <th>Additional_Info</th>\n",
       "    </tr>\n",
       "  </thead>\n",
       "  <tbody>\n",
       "    <tr>\n",
       "      <th>0</th>\n",
       "      <td>Jet Airways</td>\n",
       "      <td>6/06/2019</td>\n",
       "      <td>Delhi</td>\n",
       "      <td>Cochin</td>\n",
       "      <td>DEL → BOM → COK</td>\n",
       "      <td>17:30</td>\n",
       "      <td>04:25 07 Jun</td>\n",
       "      <td>10h 55m</td>\n",
       "      <td>1 stop</td>\n",
       "      <td>No info</td>\n",
       "    </tr>\n",
       "    <tr>\n",
       "      <th>1</th>\n",
       "      <td>IndiGo</td>\n",
       "      <td>12/05/2019</td>\n",
       "      <td>Kolkata</td>\n",
       "      <td>Banglore</td>\n",
       "      <td>CCU → MAA → BLR</td>\n",
       "      <td>06:20</td>\n",
       "      <td>10:20</td>\n",
       "      <td>4h</td>\n",
       "      <td>1 stop</td>\n",
       "      <td>No info</td>\n",
       "    </tr>\n",
       "    <tr>\n",
       "      <th>2</th>\n",
       "      <td>Jet Airways</td>\n",
       "      <td>21/05/2019</td>\n",
       "      <td>Delhi</td>\n",
       "      <td>Cochin</td>\n",
       "      <td>DEL → BOM → COK</td>\n",
       "      <td>19:15</td>\n",
       "      <td>19:00 22 May</td>\n",
       "      <td>23h 45m</td>\n",
       "      <td>1 stop</td>\n",
       "      <td>In-flight meal not included</td>\n",
       "    </tr>\n",
       "    <tr>\n",
       "      <th>3</th>\n",
       "      <td>Multiple carriers</td>\n",
       "      <td>21/05/2019</td>\n",
       "      <td>Delhi</td>\n",
       "      <td>Cochin</td>\n",
       "      <td>DEL → BOM → COK</td>\n",
       "      <td>08:00</td>\n",
       "      <td>21:00</td>\n",
       "      <td>13h</td>\n",
       "      <td>1 stop</td>\n",
       "      <td>No info</td>\n",
       "    </tr>\n",
       "    <tr>\n",
       "      <th>4</th>\n",
       "      <td>Air Asia</td>\n",
       "      <td>24/06/2019</td>\n",
       "      <td>Banglore</td>\n",
       "      <td>Delhi</td>\n",
       "      <td>BLR → DEL</td>\n",
       "      <td>23:55</td>\n",
       "      <td>02:45 25 Jun</td>\n",
       "      <td>2h 50m</td>\n",
       "      <td>non-stop</td>\n",
       "      <td>No info</td>\n",
       "    </tr>\n",
       "  </tbody>\n",
       "</table>\n",
       "</div>"
      ],
      "text/plain": [
       "             Airline Date_of_Journey    Source Destination            Route  \\\n",
       "0        Jet Airways       6/06/2019     Delhi      Cochin  DEL → BOM → COK   \n",
       "1             IndiGo      12/05/2019   Kolkata    Banglore  CCU → MAA → BLR   \n",
       "2        Jet Airways      21/05/2019     Delhi      Cochin  DEL → BOM → COK   \n",
       "3  Multiple carriers      21/05/2019     Delhi      Cochin  DEL → BOM → COK   \n",
       "4           Air Asia      24/06/2019  Banglore       Delhi        BLR → DEL   \n",
       "\n",
       "  Dep_Time  Arrival_Time Duration Total_Stops              Additional_Info  \n",
       "0    17:30  04:25 07 Jun  10h 55m      1 stop                      No info  \n",
       "1    06:20         10:20       4h      1 stop                      No info  \n",
       "2    19:15  19:00 22 May  23h 45m      1 stop  In-flight meal not included  \n",
       "3    08:00         21:00      13h      1 stop                      No info  \n",
       "4    23:55  02:45 25 Jun   2h 50m    non-stop                      No info  "
      ]
     },
     "execution_count": 7,
     "metadata": {},
     "output_type": "execute_result"
    }
   ],
   "source": [
    "test_data=pd.read_excel('Test_set.xlsx')\n",
    "test_data.head()"
   ]
  },
  {
   "cell_type": "code",
   "execution_count": 8,
   "metadata": {},
   "outputs": [
    {
     "data": {
      "text/plain": [
       "(2671, 10)"
      ]
     },
     "execution_count": 8,
     "metadata": {},
     "output_type": "execute_result"
    }
   ],
   "source": [
    "test_data.shape"
   ]
  },
  {
   "cell_type": "code",
   "execution_count": 9,
   "metadata": {},
   "outputs": [
    {
     "name": "stdout",
     "output_type": "stream",
     "text": [
      "<class 'pandas.core.frame.DataFrame'>\n",
      "RangeIndex: 2671 entries, 0 to 2670\n",
      "Data columns (total 10 columns):\n",
      "Airline            2671 non-null object\n",
      "Date_of_Journey    2671 non-null object\n",
      "Source             2671 non-null object\n",
      "Destination        2671 non-null object\n",
      "Route              2671 non-null object\n",
      "Dep_Time           2671 non-null object\n",
      "Arrival_Time       2671 non-null object\n",
      "Duration           2671 non-null object\n",
      "Total_Stops        2671 non-null object\n",
      "Additional_Info    2671 non-null object\n",
      "dtypes: object(10)\n",
      "memory usage: 208.8+ KB\n"
     ]
    }
   ],
   "source": [
    "test_data.info()"
   ]
  },
  {
   "cell_type": "code",
   "execution_count": 10,
   "metadata": {},
   "outputs": [
    {
     "data": {
      "text/plain": [
       "<matplotlib.axes._subplots.AxesSubplot at 0x11183fac8>"
      ]
     },
     "execution_count": 10,
     "metadata": {},
     "output_type": "execute_result"
    },
    {
     "data": {
      "image/png": "[encoded data removed]",
      "text/plain": [
       "<Figure size 432x288 with 1 Axes>"
      ]
     },
     "metadata": {},
     "output_type": "display_data"
    }
   ],
   "source": [
    "train_data.groupby('Airline')['Price'].mean().plot(kind='bar')"
   ]
  },
  {
   "cell_type": "code",
   "execution_count": 11,
   "metadata": {},
   "outputs": [
    {
     "data": {
      "text/plain": [
       "Jet Airways                          3849\n",
       "IndiGo                               2053\n",
       "Air India                            1752\n",
       "Multiple carriers                    1196\n",
       "SpiceJet                              818\n",
       "Vistara                               479\n",
       "Air Asia                              319\n",
       "GoAir                                 194\n",
       "Multiple carriers Premium economy      13\n",
       "Jet Airways Business                    6\n",
       "Vistara Premium economy                 3\n",
       "Trujet                                  1\n",
       "Name: Airline, dtype: int64"
      ]
     },
     "execution_count": 11,
     "metadata": {},
     "output_type": "execute_result"
    }
   ],
   "source": [
    "train_data['Airline'].value_counts()"
   ]
  },
  {
   "cell_type": "code",
   "execution_count": 12,
   "metadata": {},
   "outputs": [
    {
     "data": {
      "text/plain": [
       "<matplotlib.axes._subplots.AxesSubplot at 0xd1ad76278>"
      ]
     },
     "execution_count": 12,
     "metadata": {},
     "output_type": "execute_result"
    },
    {
     "data": {
      "image/png": "[encoded data removed]",
      "text/plain": [
       "<Figure size 432x288 with 1 Axes>"
      ]
     },
     "metadata": {},
     "output_type": "display_data"
    }
   ],
   "source": [
    "train_data['Source'].value_counts().plot(kind='bar')"
   ]
  },
  {
   "cell_type": "code",
   "execution_count": 13,
   "metadata": {},
   "outputs": [
    {
     "data": {
      "text/plain": [
       "<matplotlib.axes._subplots.AxesSubplot at 0x111917208>"
      ]
     },
     "execution_count": 13,
     "metadata": {},
     "output_type": "execute_result"
    },
    {
     "data": {
      "image/png": "[encoded data removed]",
      "text/plain": [
       "<Figure size 432x288 with 1 Axes>"
      ]
     },
     "metadata": {},
     "output_type": "display_data"
    }
   ],
   "source": [
    "train_data.groupby('Source')['Price'].mean().plot(kind='bar')"
   ]
  },
  {
   "cell_type": "code",
   "execution_count": 14,
   "metadata": {},
   "outputs": [
    {
     "data": {
      "image/png": "[encoded data removed]",
      "text/plain": [
       "<Figure size 432x288 with 1 Axes>"
      ]
     },
     "metadata": {},
     "output_type": "display_data"
    }
   ],
   "source": [
    "train_data.groupby('Destination')['Price'].mean().plot(kind='bar')\n",
    "plt.ylabel('Mean_Price')\n",
    "plt.show()"
   ]
  },
  {
   "cell_type": "code",
   "execution_count": 15,
   "metadata": {},
   "outputs": [
    {
     "data": {
      "text/plain": [
       "Jet Airways                          897\n",
       "IndiGo                               511\n",
       "Air India                            440\n",
       "Multiple carriers                    347\n",
       "SpiceJet                             208\n",
       "Vistara                              129\n",
       "Air Asia                              86\n",
       "GoAir                                 46\n",
       "Multiple carriers Premium economy      3\n",
       "Jet Airways Business                   2\n",
       "Vistara Premium economy                2\n",
       "Name: Airline, dtype: int64"
      ]
     },
     "execution_count": 15,
     "metadata": {},
     "output_type": "execute_result"
    }
   ],
   "source": [
    "test_data['Airline'].value_counts()"
   ]
  },
  {
   "cell_type": "code",
   "execution_count": 16,
   "metadata": {},
   "outputs": [
    {
     "data": {
      "text/plain": [
       "Delhi       1145\n",
       "Kolkata      710\n",
       "Banglore     555\n",
       "Mumbai       186\n",
       "Chennai       75\n",
       "Name: Source, dtype: int64"
      ]
     },
     "execution_count": 16,
     "metadata": {},
     "output_type": "execute_result"
    }
   ],
   "source": [
    "test_data['Source'].value_counts()"
   ]
  },
  {
   "cell_type": "code",
   "execution_count": 17,
   "metadata": {},
   "outputs": [
    {
     "data": {
      "text/plain": [
       "Cochin       1145\n",
       "Banglore      710\n",
       "Delhi         317\n",
       "New Delhi     238\n",
       "Hyderabad     186\n",
       "Kolkata        75\n",
       "Name: Destination, dtype: int64"
      ]
     },
     "execution_count": 17,
     "metadata": {},
     "output_type": "execute_result"
    }
   ],
   "source": [
    "test_data['Destination'].value_counts()"
   ]
  },
  {
   "cell_type": "code",
   "execution_count": 18,
   "metadata": {},
   "outputs": [
    {
     "data": {
      "text/plain": [
       "No info                         2148\n",
       "In-flight meal not included      444\n",
       "No check-in baggage included      76\n",
       "1 Long layover                     1\n",
       "Business class                     1\n",
       "Change airports                    1\n",
       "Name: Additional_Info, dtype: int64"
      ]
     },
     "execution_count": 18,
     "metadata": {},
     "output_type": "execute_result"
    }
   ],
   "source": [
    "test_data['Additional_Info'].value_counts()"
   ]
  },
  {
   "cell_type": "code",
   "execution_count": 19,
   "metadata": {},
   "outputs": [
    {
     "data": {
      "text/plain": [
       "1 stop      5625\n",
       "non-stop    3491\n",
       "2 stops     1520\n",
       "3 stops       45\n",
       "4 stops        1\n",
       "Name: Total_Stops, dtype: int64"
      ]
     },
     "execution_count": 19,
     "metadata": {},
     "output_type": "execute_result"
    }
   ],
   "source": [
    "train_data['Total_Stops'].value_counts()"
   ]
  },
  {
   "cell_type": "code",
   "execution_count": 20,
   "metadata": {},
   "outputs": [
    {
     "data": {
      "text/plain": [
       "1 stop      1431\n",
       "non-stop     849\n",
       "2 stops      379\n",
       "3 stops       11\n",
       "4 stops        1\n",
       "Name: Total_Stops, dtype: int64"
      ]
     },
     "execution_count": 20,
     "metadata": {},
     "output_type": "execute_result"
    }
   ],
   "source": [
    "test_data['Total_Stops'].value_counts()"
   ]
  },
  {
   "cell_type": "code",
   "execution_count": 21,
   "metadata": {},
   "outputs": [],
   "source": [
    "train_data['Date_of_Journey']=train_data['Date_of_Journey'].map(lambda x: pd.Timestamp(x).weekday())\n",
    "train_data['Date_of_Journey'].replace(to_replace=[0,1,2,3,4,5,6],\n",
    "                                     value=['Monday','Tuesday','Wednesday',\n",
    "                                           'Thursday','Friday','Saturday','Sunday']\n",
    "                                     ,inplace=True)\n",
    "\n",
    "test_data['Date_of_Journey']=test_data['Date_of_Journey'].map(lambda x: pd.Timestamp(x).weekday())\n",
    "test_data['Date_of_Journey'].replace(to_replace=[0,1,2,3,4,5,6],\n",
    "                                     value=['Monday','Tuesday','Wednesday',\n",
    "                                           'Thursday','Friday','Saturday','Sunday']\n",
    "                                     ,inplace=True)"
   ]
  },
  {
   "cell_type": "code",
   "execution_count": 22,
   "metadata": {},
   "outputs": [],
   "source": [
    "train_data['Dep_Time']=train_data['Dep_Time'].map(lambda x: int(str(x).split(':')[0])*100+int(str(x).split(':')[1]))\n",
    "test_data['Dep_Time']=test_data['Dep_Time'].map(lambda x: int(str(x).split(':')[0])*100+int(str(x).split(':')[1]))"
   ]
  },
  {
   "cell_type": "code",
   "execution_count": 23,
   "metadata": {},
   "outputs": [
    {
     "data": {
      "text/plain": [
       "1205    1\n",
       "415     1\n",
       "2225    1\n",
       "1625    1\n",
       "2140    1\n",
       "Name: Dep_Time, dtype: int64"
      ]
     },
     "execution_count": 23,
     "metadata": {},
     "output_type": "execute_result"
    }
   ],
   "source": [
    "train_data['Dep_Time'].value_counts().sort_values(ascending=True).head()"
   ]
  },
  {
   "cell_type": "markdown",
   "metadata": {},
   "source": [
    "#### Indian airport generally witness four peak period during a day,between 6 am and 8.30 am; 10.30 am and 12 pm; 4 pm and 6 pm; and 7 pm and 9.30 pm."
   ]
  },
  {
   "cell_type": "code",
   "execution_count": 24,
   "metadata": {},
   "outputs": [],
   "source": [
    "ls1=list(train_data['Dep_Time'])\n",
    "time_dist=[]\n",
    "for i in range(len(train_data['Dep_Time'])):\n",
    "    if((ls1[i]>=600 and ls1[i]<=830)|(ls1[i]>=1030 and ls1[i]<=1200)|(ls1[i]>=1600 and ls1[i]<=1800)|(ls1[i]>=1900 and ls1[i]<=2130)):\n",
    "        time_dist.append('Peek')\n",
    "    else:\n",
    "        time_dist.append('Non_Peek')\n",
    "train_data['Dep_Time_Category']=time_dist\n",
    "\n",
    "ls1=list(test_data['Dep_Time'])\n",
    "time_dist=[]\n",
    "for i in range(len(test_data['Dep_Time'])):\n",
    "    if((ls1[i]>=600 and ls1[i]<=830)|(ls1[i]>=1030 and ls1[i]<=1200)|(ls1[i]>=1600 and ls1[i]<=1800)|(ls1[i]>=1900 and ls1[i]<=2130)):\n",
    "        time_dist.append('Peek')\n",
    "    else:\n",
    "        time_dist.append('Non_Peek')\n",
    "test_data['Dep_Time_Category']=time_dist"
   ]
  },
  {
   "cell_type": "code",
   "execution_count": 25,
   "metadata": {},
   "outputs": [
    {
     "data": {
      "text/html": [
       "<div>\n",
       "<style scoped>\n",
       "    .dataframe tbody tr th:only-of-type {\n",
       "        vertical-align: middle;\n",
       "    }\n",
       "\n",
       "    .dataframe tbody tr th {\n",
       "        vertical-align: top;\n",
       "    }\n",
       "\n",
       "    .dataframe thead th {\n",
       "        text-align: right;\n",
       "    }\n",
       "</style>\n",
       "<table border=\"1\" class=\"dataframe\">\n",
       "  <thead>\n",
       "    <tr style=\"text-align: right;\">\n",
       "      <th></th>\n",
       "      <th>Airline</th>\n",
       "      <th>Date_of_Journey</th>\n",
       "      <th>Source</th>\n",
       "      <th>Destination</th>\n",
       "      <th>Route</th>\n",
       "      <th>Dep_Time</th>\n",
       "      <th>Arrival_Time</th>\n",
       "      <th>Duration</th>\n",
       "      <th>Total_Stops</th>\n",
       "      <th>Additional_Info</th>\n",
       "      <th>Price</th>\n",
       "      <th>Dep_Time_Category</th>\n",
       "    </tr>\n",
       "  </thead>\n",
       "  <tbody>\n",
       "    <tr>\n",
       "      <th>0</th>\n",
       "      <td>IndiGo</td>\n",
       "      <td>Sunday</td>\n",
       "      <td>Banglore</td>\n",
       "      <td>New Delhi</td>\n",
       "      <td>BLR → DEL</td>\n",
       "      <td>2220</td>\n",
       "      <td>01:10 22 Mar</td>\n",
       "      <td>2h 50m</td>\n",
       "      <td>non-stop</td>\n",
       "      <td>No info</td>\n",
       "      <td>3897</td>\n",
       "      <td>Non_Peek</td>\n",
       "    </tr>\n",
       "    <tr>\n",
       "      <th>1</th>\n",
       "      <td>Air India</td>\n",
       "      <td>Saturday</td>\n",
       "      <td>Kolkata</td>\n",
       "      <td>Banglore</td>\n",
       "      <td>CCU → IXR → BBI → BLR</td>\n",
       "      <td>550</td>\n",
       "      <td>13:15</td>\n",
       "      <td>7h 25m</td>\n",
       "      <td>2 stops</td>\n",
       "      <td>No info</td>\n",
       "      <td>7662</td>\n",
       "      <td>Non_Peek</td>\n",
       "    </tr>\n",
       "    <tr>\n",
       "      <th>2</th>\n",
       "      <td>Jet Airways</td>\n",
       "      <td>Friday</td>\n",
       "      <td>Delhi</td>\n",
       "      <td>Cochin</td>\n",
       "      <td>DEL → LKO → BOM → COK</td>\n",
       "      <td>925</td>\n",
       "      <td>04:25 10 Jun</td>\n",
       "      <td>19h</td>\n",
       "      <td>2 stops</td>\n",
       "      <td>No info</td>\n",
       "      <td>13882</td>\n",
       "      <td>Non_Peek</td>\n",
       "    </tr>\n",
       "    <tr>\n",
       "      <th>3</th>\n",
       "      <td>IndiGo</td>\n",
       "      <td>Thursday</td>\n",
       "      <td>Kolkata</td>\n",
       "      <td>Banglore</td>\n",
       "      <td>CCU → NAG → BLR</td>\n",
       "      <td>1805</td>\n",
       "      <td>23:30</td>\n",
       "      <td>5h 25m</td>\n",
       "      <td>1 stop</td>\n",
       "      <td>No info</td>\n",
       "      <td>6218</td>\n",
       "      <td>Non_Peek</td>\n",
       "    </tr>\n",
       "    <tr>\n",
       "      <th>4</th>\n",
       "      <td>IndiGo</td>\n",
       "      <td>Thursday</td>\n",
       "      <td>Banglore</td>\n",
       "      <td>New Delhi</td>\n",
       "      <td>BLR → NAG → DEL</td>\n",
       "      <td>1650</td>\n",
       "      <td>21:35</td>\n",
       "      <td>4h 45m</td>\n",
       "      <td>1 stop</td>\n",
       "      <td>No info</td>\n",
       "      <td>13302</td>\n",
       "      <td>Peek</td>\n",
       "    </tr>\n",
       "    <tr>\n",
       "      <th>5</th>\n",
       "      <td>SpiceJet</td>\n",
       "      <td>Monday</td>\n",
       "      <td>Kolkata</td>\n",
       "      <td>Banglore</td>\n",
       "      <td>CCU → BLR</td>\n",
       "      <td>900</td>\n",
       "      <td>11:25</td>\n",
       "      <td>2h 25m</td>\n",
       "      <td>non-stop</td>\n",
       "      <td>No info</td>\n",
       "      <td>3873</td>\n",
       "      <td>Non_Peek</td>\n",
       "    </tr>\n",
       "    <tr>\n",
       "      <th>6</th>\n",
       "      <td>Jet Airways</td>\n",
       "      <td>Tuesday</td>\n",
       "      <td>Banglore</td>\n",
       "      <td>New Delhi</td>\n",
       "      <td>BLR → BOM → DEL</td>\n",
       "      <td>1855</td>\n",
       "      <td>10:25 13 Mar</td>\n",
       "      <td>15h 30m</td>\n",
       "      <td>1 stop</td>\n",
       "      <td>In-flight meal not included</td>\n",
       "      <td>11087</td>\n",
       "      <td>Non_Peek</td>\n",
       "    </tr>\n",
       "  </tbody>\n",
       "</table>\n",
       "</div>"
      ],
      "text/plain": [
       "       Airline Date_of_Journey    Source Destination                  Route  \\\n",
       "0       IndiGo          Sunday  Banglore   New Delhi              BLR → DEL   \n",
       "1    Air India        Saturday   Kolkata    Banglore  CCU → IXR → BBI → BLR   \n",
       "2  Jet Airways          Friday     Delhi      Cochin  DEL → LKO → BOM → COK   \n",
       "3       IndiGo        Thursday   Kolkata    Banglore        CCU → NAG → BLR   \n",
       "4       IndiGo        Thursday  Banglore   New Delhi        BLR → NAG → DEL   \n",
       "5     SpiceJet          Monday   Kolkata    Banglore              CCU → BLR   \n",
       "6  Jet Airways         Tuesday  Banglore   New Delhi        BLR → BOM → DEL   \n",
       "\n",
       "   Dep_Time  Arrival_Time Duration Total_Stops              Additional_Info  \\\n",
       "0      2220  01:10 22 Mar   2h 50m    non-stop                      No info   \n",
       "1       550         13:15   7h 25m     2 stops                      No info   \n",
       "2       925  04:25 10 Jun      19h     2 stops                      No info   \n",
       "3      1805         23:30   5h 25m      1 stop                      No info   \n",
       "4      1650         21:35   4h 45m      1 stop                      No info   \n",
       "5       900         11:25   2h 25m    non-stop                      No info   \n",
       "6      1855  10:25 13 Mar  15h 30m      1 stop  In-flight meal not included   \n",
       "\n",
       "   Price Dep_Time_Category  \n",
       "0   3897          Non_Peek  \n",
       "1   7662          Non_Peek  \n",
       "2  13882          Non_Peek  \n",
       "3   6218          Non_Peek  \n",
       "4  13302              Peek  \n",
       "5   3873          Non_Peek  \n",
       "6  11087          Non_Peek  "
      ]
     },
     "execution_count": 25,
     "metadata": {},
     "output_type": "execute_result"
    }
   ],
   "source": [
    "train_data.head(7)"
   ]
  },
  {
   "cell_type": "code",
   "execution_count": 26,
   "metadata": {},
   "outputs": [
    {
     "data": {
      "text/html": [
       "<div>\n",
       "<style scoped>\n",
       "    .dataframe tbody tr th:only-of-type {\n",
       "        vertical-align: middle;\n",
       "    }\n",
       "\n",
       "    .dataframe tbody tr th {\n",
       "        vertical-align: top;\n",
       "    }\n",
       "\n",
       "    .dataframe thead th {\n",
       "        text-align: right;\n",
       "    }\n",
       "</style>\n",
       "<table border=\"1\" class=\"dataframe\">\n",
       "  <thead>\n",
       "    <tr style=\"text-align: right;\">\n",
       "      <th></th>\n",
       "      <th>Airline</th>\n",
       "      <th>Date_of_Journey</th>\n",
       "      <th>Source</th>\n",
       "      <th>Destination</th>\n",
       "      <th>Route</th>\n",
       "      <th>Dep_Time</th>\n",
       "      <th>Arrival_Time</th>\n",
       "      <th>Duration</th>\n",
       "      <th>Total_Stops</th>\n",
       "      <th>Additional_Info</th>\n",
       "      <th>Dep_Time_Category</th>\n",
       "    </tr>\n",
       "  </thead>\n",
       "  <tbody>\n",
       "    <tr>\n",
       "      <th>0</th>\n",
       "      <td>Jet Airways</td>\n",
       "      <td>Thursday</td>\n",
       "      <td>Delhi</td>\n",
       "      <td>Cochin</td>\n",
       "      <td>DEL → BOM → COK</td>\n",
       "      <td>1730</td>\n",
       "      <td>04:25 07 Jun</td>\n",
       "      <td>10h 55m</td>\n",
       "      <td>1 stop</td>\n",
       "      <td>No info</td>\n",
       "      <td>Peek</td>\n",
       "    </tr>\n",
       "    <tr>\n",
       "      <th>1</th>\n",
       "      <td>IndiGo</td>\n",
       "      <td>Thursday</td>\n",
       "      <td>Kolkata</td>\n",
       "      <td>Banglore</td>\n",
       "      <td>CCU → MAA → BLR</td>\n",
       "      <td>620</td>\n",
       "      <td>10:20</td>\n",
       "      <td>4h</td>\n",
       "      <td>1 stop</td>\n",
       "      <td>No info</td>\n",
       "      <td>Peek</td>\n",
       "    </tr>\n",
       "    <tr>\n",
       "      <th>2</th>\n",
       "      <td>Jet Airways</td>\n",
       "      <td>Tuesday</td>\n",
       "      <td>Delhi</td>\n",
       "      <td>Cochin</td>\n",
       "      <td>DEL → BOM → COK</td>\n",
       "      <td>1915</td>\n",
       "      <td>19:00 22 May</td>\n",
       "      <td>23h 45m</td>\n",
       "      <td>1 stop</td>\n",
       "      <td>In-flight meal not included</td>\n",
       "      <td>Peek</td>\n",
       "    </tr>\n",
       "    <tr>\n",
       "      <th>3</th>\n",
       "      <td>Multiple carriers</td>\n",
       "      <td>Tuesday</td>\n",
       "      <td>Delhi</td>\n",
       "      <td>Cochin</td>\n",
       "      <td>DEL → BOM → COK</td>\n",
       "      <td>800</td>\n",
       "      <td>21:00</td>\n",
       "      <td>13h</td>\n",
       "      <td>1 stop</td>\n",
       "      <td>No info</td>\n",
       "      <td>Peek</td>\n",
       "    </tr>\n",
       "    <tr>\n",
       "      <th>4</th>\n",
       "      <td>Air Asia</td>\n",
       "      <td>Monday</td>\n",
       "      <td>Banglore</td>\n",
       "      <td>Delhi</td>\n",
       "      <td>BLR → DEL</td>\n",
       "      <td>2355</td>\n",
       "      <td>02:45 25 Jun</td>\n",
       "      <td>2h 50m</td>\n",
       "      <td>non-stop</td>\n",
       "      <td>No info</td>\n",
       "      <td>Non_Peek</td>\n",
       "    </tr>\n",
       "  </tbody>\n",
       "</table>\n",
       "</div>"
      ],
      "text/plain": [
       "             Airline Date_of_Journey    Source Destination            Route  \\\n",
       "0        Jet Airways        Thursday     Delhi      Cochin  DEL → BOM → COK   \n",
       "1             IndiGo        Thursday   Kolkata    Banglore  CCU → MAA → BLR   \n",
       "2        Jet Airways         Tuesday     Delhi      Cochin  DEL → BOM → COK   \n",
       "3  Multiple carriers         Tuesday     Delhi      Cochin  DEL → BOM → COK   \n",
       "4           Air Asia          Monday  Banglore       Delhi        BLR → DEL   \n",
       "\n",
       "   Dep_Time  Arrival_Time Duration Total_Stops              Additional_Info  \\\n",
       "0      1730  04:25 07 Jun  10h 55m      1 stop                      No info   \n",
       "1       620         10:20       4h      1 stop                      No info   \n",
       "2      1915  19:00 22 May  23h 45m      1 stop  In-flight meal not included   \n",
       "3       800         21:00      13h      1 stop                      No info   \n",
       "4      2355  02:45 25 Jun   2h 50m    non-stop                      No info   \n",
       "\n",
       "  Dep_Time_Category  \n",
       "0              Peek  \n",
       "1              Peek  \n",
       "2              Peek  \n",
       "3              Peek  \n",
       "4          Non_Peek  "
      ]
     },
     "execution_count": 26,
     "metadata": {},
     "output_type": "execute_result"
    }
   ],
   "source": [
    "test_data.head()"
   ]
  },
  {
   "cell_type": "code",
   "execution_count": null,
   "metadata": {},
   "outputs": [],
   "source": []
  },
  {
   "cell_type": "code",
   "execution_count": 27,
   "metadata": {},
   "outputs": [],
   "source": [
    "ls1=list(train_data['Duration'])\n",
    "dur=[]\n",
    "for i in range(len(ls1)):\n",
    "    if len(ls1[i])==2:\n",
    "        dur.append(int(ls1[i][:-1]))\n",
    "    elif len(ls1[i])==3:\n",
    "        dur.append(int(ls1[i][:-1]))\n",
    "    else:     \n",
    "        z=int(ls1[i].split(' ')[0][:-1])+float(ls1[i].split(' ')[1][:-1])*(10**(-2))\n",
    "        dur.append(z)                                     \n",
    "train_data['Duration']=dur        \n",
    "\n",
    "\n",
    "ls1=list(test_data['Duration'])\n",
    "dur=[]\n",
    "for i in range(len(ls1)):\n",
    "    if len(ls1[i])==2:\n",
    "        dur.append(int(ls1[i][:-1]))\n",
    "    elif len(ls1[i])==3:\n",
    "        dur.append(int(ls1[i][:-1]))\n",
    "    else:     \n",
    "        z=int(ls1[i].split(' ')[0][:-1])+float(ls1[i].split(' ')[1][:-1])*(10**(-2))\n",
    "        dur.append(z)                                     \n",
    "test_data['Duration']=dur        "
   ]
  },
  {
   "cell_type": "code",
   "execution_count": 28,
   "metadata": {},
   "outputs": [
    {
     "data": {
      "text/html": [
       "<div>\n",
       "<style scoped>\n",
       "    .dataframe tbody tr th:only-of-type {\n",
       "        vertical-align: middle;\n",
       "    }\n",
       "\n",
       "    .dataframe tbody tr th {\n",
       "        vertical-align: top;\n",
       "    }\n",
       "\n",
       "    .dataframe thead th {\n",
       "        text-align: right;\n",
       "    }\n",
       "</style>\n",
       "<table border=\"1\" class=\"dataframe\">\n",
       "  <thead>\n",
       "    <tr style=\"text-align: right;\">\n",
       "      <th></th>\n",
       "      <th>Airline</th>\n",
       "      <th>Date_of_Journey</th>\n",
       "      <th>Source</th>\n",
       "      <th>Destination</th>\n",
       "      <th>Route</th>\n",
       "      <th>Dep_Time</th>\n",
       "      <th>Arrival_Time</th>\n",
       "      <th>Duration</th>\n",
       "      <th>Total_Stops</th>\n",
       "      <th>Additional_Info</th>\n",
       "      <th>Price</th>\n",
       "      <th>Dep_Time_Category</th>\n",
       "    </tr>\n",
       "  </thead>\n",
       "  <tbody>\n",
       "    <tr>\n",
       "      <th>0</th>\n",
       "      <td>IndiGo</td>\n",
       "      <td>Sunday</td>\n",
       "      <td>Banglore</td>\n",
       "      <td>New Delhi</td>\n",
       "      <td>BLR → DEL</td>\n",
       "      <td>2220</td>\n",
       "      <td>01:10 22 Mar</td>\n",
       "      <td>2.50</td>\n",
       "      <td>non-stop</td>\n",
       "      <td>No info</td>\n",
       "      <td>3897</td>\n",
       "      <td>Non_Peek</td>\n",
       "    </tr>\n",
       "    <tr>\n",
       "      <th>1</th>\n",
       "      <td>Air India</td>\n",
       "      <td>Saturday</td>\n",
       "      <td>Kolkata</td>\n",
       "      <td>Banglore</td>\n",
       "      <td>CCU → IXR → BBI → BLR</td>\n",
       "      <td>550</td>\n",
       "      <td>13:15</td>\n",
       "      <td>7.25</td>\n",
       "      <td>2 stops</td>\n",
       "      <td>No info</td>\n",
       "      <td>7662</td>\n",
       "      <td>Non_Peek</td>\n",
       "    </tr>\n",
       "    <tr>\n",
       "      <th>2</th>\n",
       "      <td>Jet Airways</td>\n",
       "      <td>Friday</td>\n",
       "      <td>Delhi</td>\n",
       "      <td>Cochin</td>\n",
       "      <td>DEL → LKO → BOM → COK</td>\n",
       "      <td>925</td>\n",
       "      <td>04:25 10 Jun</td>\n",
       "      <td>19.00</td>\n",
       "      <td>2 stops</td>\n",
       "      <td>No info</td>\n",
       "      <td>13882</td>\n",
       "      <td>Non_Peek</td>\n",
       "    </tr>\n",
       "    <tr>\n",
       "      <th>3</th>\n",
       "      <td>IndiGo</td>\n",
       "      <td>Thursday</td>\n",
       "      <td>Kolkata</td>\n",
       "      <td>Banglore</td>\n",
       "      <td>CCU → NAG → BLR</td>\n",
       "      <td>1805</td>\n",
       "      <td>23:30</td>\n",
       "      <td>5.25</td>\n",
       "      <td>1 stop</td>\n",
       "      <td>No info</td>\n",
       "      <td>6218</td>\n",
       "      <td>Non_Peek</td>\n",
       "    </tr>\n",
       "    <tr>\n",
       "      <th>4</th>\n",
       "      <td>IndiGo</td>\n",
       "      <td>Thursday</td>\n",
       "      <td>Banglore</td>\n",
       "      <td>New Delhi</td>\n",
       "      <td>BLR → NAG → DEL</td>\n",
       "      <td>1650</td>\n",
       "      <td>21:35</td>\n",
       "      <td>4.45</td>\n",
       "      <td>1 stop</td>\n",
       "      <td>No info</td>\n",
       "      <td>13302</td>\n",
       "      <td>Peek</td>\n",
       "    </tr>\n",
       "  </tbody>\n",
       "</table>\n",
       "</div>"
      ],
      "text/plain": [
       "       Airline Date_of_Journey    Source Destination                  Route  \\\n",
       "0       IndiGo          Sunday  Banglore   New Delhi              BLR → DEL   \n",
       "1    Air India        Saturday   Kolkata    Banglore  CCU → IXR → BBI → BLR   \n",
       "2  Jet Airways          Friday     Delhi      Cochin  DEL → LKO → BOM → COK   \n",
       "3       IndiGo        Thursday   Kolkata    Banglore        CCU → NAG → BLR   \n",
       "4       IndiGo        Thursday  Banglore   New Delhi        BLR → NAG → DEL   \n",
       "\n",
       "   Dep_Time  Arrival_Time  Duration Total_Stops Additional_Info  Price  \\\n",
       "0      2220  01:10 22 Mar      2.50    non-stop         No info   3897   \n",
       "1       550         13:15      7.25     2 stops         No info   7662   \n",
       "2       925  04:25 10 Jun     19.00     2 stops         No info  13882   \n",
       "3      1805         23:30      5.25      1 stop         No info   6218   \n",
       "4      1650         21:35      4.45      1 stop         No info  13302   \n",
       "\n",
       "  Dep_Time_Category  \n",
       "0          Non_Peek  \n",
       "1          Non_Peek  \n",
       "2          Non_Peek  \n",
       "3          Non_Peek  \n",
       "4              Peek  "
      ]
     },
     "execution_count": 28,
     "metadata": {},
     "output_type": "execute_result"
    }
   ],
   "source": [
    "train_data.head()"
   ]
  },
  {
   "cell_type": "code",
   "execution_count": 29,
   "metadata": {},
   "outputs": [
    {
     "data": {
      "text/html": [
       "<div>\n",
       "<style scoped>\n",
       "    .dataframe tbody tr th:only-of-type {\n",
       "        vertical-align: middle;\n",
       "    }\n",
       "\n",
       "    .dataframe tbody tr th {\n",
       "        vertical-align: top;\n",
       "    }\n",
       "\n",
       "    .dataframe thead th {\n",
       "        text-align: right;\n",
       "    }\n",
       "</style>\n",
       "<table border=\"1\" class=\"dataframe\">\n",
       "  <thead>\n",
       "    <tr style=\"text-align: right;\">\n",
       "      <th></th>\n",
       "      <th>Airline</th>\n",
       "      <th>Date_of_Journey</th>\n",
       "      <th>Source</th>\n",
       "      <th>Destination</th>\n",
       "      <th>Route</th>\n",
       "      <th>Dep_Time</th>\n",
       "      <th>Arrival_Time</th>\n",
       "      <th>Duration</th>\n",
       "      <th>Total_Stops</th>\n",
       "      <th>Additional_Info</th>\n",
       "      <th>Dep_Time_Category</th>\n",
       "    </tr>\n",
       "  </thead>\n",
       "  <tbody>\n",
       "    <tr>\n",
       "      <th>0</th>\n",
       "      <td>Jet Airways</td>\n",
       "      <td>Thursday</td>\n",
       "      <td>Delhi</td>\n",
       "      <td>Cochin</td>\n",
       "      <td>DEL → BOM → COK</td>\n",
       "      <td>1730</td>\n",
       "      <td>04:25 07 Jun</td>\n",
       "      <td>10.55</td>\n",
       "      <td>1 stop</td>\n",
       "      <td>No info</td>\n",
       "      <td>Peek</td>\n",
       "    </tr>\n",
       "    <tr>\n",
       "      <th>1</th>\n",
       "      <td>IndiGo</td>\n",
       "      <td>Thursday</td>\n",
       "      <td>Kolkata</td>\n",
       "      <td>Banglore</td>\n",
       "      <td>CCU → MAA → BLR</td>\n",
       "      <td>620</td>\n",
       "      <td>10:20</td>\n",
       "      <td>4.00</td>\n",
       "      <td>1 stop</td>\n",
       "      <td>No info</td>\n",
       "      <td>Peek</td>\n",
       "    </tr>\n",
       "    <tr>\n",
       "      <th>2</th>\n",
       "      <td>Jet Airways</td>\n",
       "      <td>Tuesday</td>\n",
       "      <td>Delhi</td>\n",
       "      <td>Cochin</td>\n",
       "      <td>DEL → BOM → COK</td>\n",
       "      <td>1915</td>\n",
       "      <td>19:00 22 May</td>\n",
       "      <td>23.45</td>\n",
       "      <td>1 stop</td>\n",
       "      <td>In-flight meal not included</td>\n",
       "      <td>Peek</td>\n",
       "    </tr>\n",
       "    <tr>\n",
       "      <th>3</th>\n",
       "      <td>Multiple carriers</td>\n",
       "      <td>Tuesday</td>\n",
       "      <td>Delhi</td>\n",
       "      <td>Cochin</td>\n",
       "      <td>DEL → BOM → COK</td>\n",
       "      <td>800</td>\n",
       "      <td>21:00</td>\n",
       "      <td>13.00</td>\n",
       "      <td>1 stop</td>\n",
       "      <td>No info</td>\n",
       "      <td>Peek</td>\n",
       "    </tr>\n",
       "    <tr>\n",
       "      <th>4</th>\n",
       "      <td>Air Asia</td>\n",
       "      <td>Monday</td>\n",
       "      <td>Banglore</td>\n",
       "      <td>Delhi</td>\n",
       "      <td>BLR → DEL</td>\n",
       "      <td>2355</td>\n",
       "      <td>02:45 25 Jun</td>\n",
       "      <td>2.50</td>\n",
       "      <td>non-stop</td>\n",
       "      <td>No info</td>\n",
       "      <td>Non_Peek</td>\n",
       "    </tr>\n",
       "  </tbody>\n",
       "</table>\n",
       "</div>"
      ],
      "text/plain": [
       "             Airline Date_of_Journey    Source Destination            Route  \\\n",
       "0        Jet Airways        Thursday     Delhi      Cochin  DEL → BOM → COK   \n",
       "1             IndiGo        Thursday   Kolkata    Banglore  CCU → MAA → BLR   \n",
       "2        Jet Airways         Tuesday     Delhi      Cochin  DEL → BOM → COK   \n",
       "3  Multiple carriers         Tuesday     Delhi      Cochin  DEL → BOM → COK   \n",
       "4           Air Asia          Monday  Banglore       Delhi        BLR → DEL   \n",
       "\n",
       "   Dep_Time  Arrival_Time  Duration Total_Stops              Additional_Info  \\\n",
       "0      1730  04:25 07 Jun     10.55      1 stop                      No info   \n",
       "1       620         10:20      4.00      1 stop                      No info   \n",
       "2      1915  19:00 22 May     23.45      1 stop  In-flight meal not included   \n",
       "3       800         21:00     13.00      1 stop                      No info   \n",
       "4      2355  02:45 25 Jun      2.50    non-stop                      No info   \n",
       "\n",
       "  Dep_Time_Category  \n",
       "0              Peek  \n",
       "1              Peek  \n",
       "2              Peek  \n",
       "3              Peek  \n",
       "4          Non_Peek  "
      ]
     },
     "execution_count": 29,
     "metadata": {},
     "output_type": "execute_result"
    }
   ],
   "source": [
    "test_data.head()"
   ]
  },
  {
   "cell_type": "code",
   "execution_count": 30,
   "metadata": {},
   "outputs": [
    {
     "data": {
      "text/plain": [
       "<matplotlib.axes._subplots.AxesSubplot at 0xd1ad40588>"
      ]
     },
     "execution_count": 30,
     "metadata": {},
     "output_type": "execute_result"
    },
    {
     "data": {
      "image/png": "[encoded data removed]",
      "text/plain": [
       "<Figure size 432x288 with 1 Axes>"
      ]
     },
     "metadata": {},
     "output_type": "display_data"
    }
   ],
   "source": [
    "train_data['Total_Stops'].value_counts().plot(kind='bar')"
   ]
  },
  {
   "cell_type": "code",
   "execution_count": 31,
   "metadata": {},
   "outputs": [
    {
     "data": {
      "text/plain": [
       "<matplotlib.axes._subplots.AxesSubplot at 0x111846550>"
      ]
     },
     "execution_count": 31,
     "metadata": {},
     "output_type": "execute_result"
    },
    {
     "data": {
      "image/png": "[encoded data removed]",
      "text/plain": [
       "<Figure size 432x288 with 1 Axes>"
      ]
     },
     "metadata": {},
     "output_type": "display_data"
    }
   ],
   "source": [
    "test_data['Total_Stops'].value_counts().plot(kind='bar')"
   ]
  },
  {
   "cell_type": "markdown",
   "metadata": {},
   "source": [
    "Dropping Columns, Null Values And Trujet "
   ]
  },
  {
   "cell_type": "code",
   "execution_count": 32,
   "metadata": {},
   "outputs": [],
   "source": [
    "train_data.drop(labels=['Route','Dep_Time','Arrival_Time'],inplace=True,axis=1)\n",
    "test_data.drop(labels=['Route','Dep_Time','Arrival_Time'],inplace=True,axis=1)\n",
    "train_data.drop(labels=['Additional_Info'],inplace=True,axis=1)\n",
    "test_data.drop(labels=['Additional_Info'],inplace=True,axis=1)\n",
    "train_data.dropna(inplace=True)\n",
    "train_data.drop(train_data[train_data['Airline']=='Trujet'].index,inplace=True)"
   ]
  },
  {
   "cell_type": "code",
   "execution_count": 33,
   "metadata": {},
   "outputs": [],
   "source": [
    "train_data['Destination']=train_data['Destination']+'d'\n",
    "test_data['Destination']=test_data['Destination']+'d'"
   ]
  },
  {
   "cell_type": "code",
   "execution_count": 34,
   "metadata": {},
   "outputs": [
    {
     "data": {
      "text/plain": [
       "1 stop      5624\n",
       "non-stop    3491\n",
       "2 stops     1520\n",
       "3 stops       45\n",
       "4 stops        1\n",
       "Name: Total_Stops, dtype: int64"
      ]
     },
     "execution_count": 34,
     "metadata": {},
     "output_type": "execute_result"
    }
   ],
   "source": [
    "train_data['Total_Stops'].value_counts()"
   ]
  },
  {
   "cell_type": "code",
   "execution_count": 35,
   "metadata": {},
   "outputs": [
    {
     "data": {
      "text/plain": [
       "1 stop      1431\n",
       "non-stop     849\n",
       "2 stops      379\n",
       "3 stops       11\n",
       "4 stops        1\n",
       "Name: Total_Stops, dtype: int64"
      ]
     },
     "execution_count": 35,
     "metadata": {},
     "output_type": "execute_result"
    }
   ],
   "source": [
    "test_data['Total_Stops'].value_counts()"
   ]
  },
  {
   "cell_type": "code",
   "execution_count": 36,
   "metadata": {},
   "outputs": [],
   "source": [
    "for i in train_data.drop(labels=['Price','Duration'],axis=1).columns:\n",
    "    col=pd.get_dummies(train_data[i])\n",
    "    train_data=pd.concat([train_data,col],axis=1)\n",
    "    train_data.drop(labels=i,axis=1,inplace=True)\n",
    "    \n",
    "    \n",
    "for i in test_data.drop(labels=['Duration'],axis=1).columns:\n",
    "    col=pd.get_dummies(test_data[i])\n",
    "    test_data=pd.concat([test_data,col],axis=1)\n",
    "    test_data.drop(labels=i,axis=1,inplace=True)    "
   ]
  },
  {
   "cell_type": "code",
   "execution_count": null,
   "metadata": {},
   "outputs": [],
   "source": []
  },
  {
   "cell_type": "code",
   "execution_count": 37,
   "metadata": {},
   "outputs": [],
   "source": [
    "#test_data['1 Short layover']=np.zeros((len(test_data),1))\n",
    "#test_data['2 Long layover']=np.zeros((len(test_data),1))  \n",
    "#test_data['No Info']=np.zeros((len(test_data),1)) \n",
    "#test_data['Red-eye flight']=np.zeros((len(test_data),1)) "
   ]
  },
  {
   "cell_type": "code",
   "execution_count": 38,
   "metadata": {},
   "outputs": [
    {
     "data": {
      "text/plain": [
       "(10681, 38)"
      ]
     },
     "execution_count": 38,
     "metadata": {},
     "output_type": "execute_result"
    }
   ],
   "source": [
    "train_data.shape"
   ]
  },
  {
   "cell_type": "code",
   "execution_count": 39,
   "metadata": {},
   "outputs": [
    {
     "data": {
      "text/plain": [
       "(2671, 37)"
      ]
     },
     "execution_count": 39,
     "metadata": {},
     "output_type": "execute_result"
    }
   ],
   "source": [
    "test_data.shape"
   ]
  },
  {
   "cell_type": "code",
   "execution_count": 40,
   "metadata": {},
   "outputs": [],
   "source": [
    "test_data=test_data[train_data.drop('Price',axis=1).columns]"
   ]
  },
  {
   "cell_type": "code",
   "execution_count": 41,
   "metadata": {},
   "outputs": [],
   "source": [
    "from sklearn.model_selection import train_test_split"
   ]
  },
  {
   "cell_type": "code",
   "execution_count": 42,
   "metadata": {},
   "outputs": [],
   "source": [
    "X=train_data.drop('Price',axis=1)\n",
    "y=train_data['Price']\n",
    "X_train,X_test,y_train,y_test=train_test_split(X,y,random_state=42)"
   ]
  },
  {
   "cell_type": "code",
   "execution_count": 43,
   "metadata": {},
   "outputs": [
    {
     "name": "stdout",
     "output_type": "stream",
     "text": [
      "61.449450418261755\n",
      "60.41454636229214\n"
     ]
    }
   ],
   "source": [
    "from sklearn.linear_model import LinearRegression\n",
    "lr=LinearRegression()\n",
    "lr.fit(X_train,y_train)\n",
    "print(lr.score(X_train,y_train)*100)\n",
    "print(lr.score(X_test,y_test)*100)"
   ]
  },
  {
   "cell_type": "code",
   "execution_count": 44,
   "metadata": {},
   "outputs": [
    {
     "name": "stdout",
     "output_type": "stream",
     "text": [
      "0.6771211363222946\n",
      "0.6325860877349725\n"
     ]
    }
   ],
   "source": [
    "from sklearn.tree import DecisionTreeRegressor\n",
    "t=DecisionTreeRegressor(max_depth=7)\n",
    "t.fit(X_train,y_train)\n",
    "print(t.score(X_train,y_train))\n",
    "print(t.score(X_test,y_test))"
   ]
  },
  {
   "cell_type": "code",
   "execution_count": 45,
   "metadata": {},
   "outputs": [
    {
     "name": "stdout",
     "output_type": "stream",
     "text": [
      "(8010, 37) (8010,)\n",
      "(2671, 37) (2671,)\n"
     ]
    }
   ],
   "source": [
    "print(X_train.shape,y_train.shape)\n",
    "print(X_test.shape,y_test.shape)"
   ]
  },
  {
   "cell_type": "code",
   "execution_count": 46,
   "metadata": {},
   "outputs": [],
   "source": [
    "from keras.layers import Dense,Activation,Dropout\n",
    "from keras.models import Sequential\n",
    "from keras.optimizers import Adam,RMSprop"
   ]
  },
  {
   "cell_type": "code",
   "execution_count": 47,
   "metadata": {},
   "outputs": [
    {
     "name": "stdout",
     "output_type": "stream",
     "text": [
      "(7209, 37) (7209,)\n",
      "(801, 37) (801,)\n",
      "(2671, 37) (2671,)\n"
     ]
    }
   ],
   "source": [
    "X_train,X_val,y_train,y_val=train_test_split(X_train,y_train,test_size=0.1,random_state=42)\n",
    "print(X_train.shape,y_train.shape)\n",
    "print(X_val.shape,y_val.shape)\n",
    "print(X_test.shape,y_test.shape)\n",
    "X_train.to_csv('Train_data_processed.csv')\n",
    "X_val.to_csv('Validation_data_processed.csv')\n",
    "pd.DataFrame(data=y_train).to_csv('train_labels.csv')\n",
    "pd.DataFrame(data=y_val).to_csv('validation_lables.csv')"
   ]
  },
  {
   "cell_type": "code",
   "execution_count": 48,
   "metadata": {},
   "outputs": [],
   "source": [
    "#X_train.to_csv('Train_data_processed.csv')\n",
    "#X_val.to_csv('Validation_data_processed.csv')\n",
    "#len(pd.read_csv('Validation_data_processed.csv'))\n",
    "#y_train.to_csv('train_labels.csv')\n",
    "#pd.read_csv('Train_data_processed.csv',index_col='Unnamed: 0').values\n",
    "#pd.read_csv('train_labels.csv').shape\n",
    "#y_val.to_csv('validation_lables.csv')"
   ]
  },
  {
   "cell_type": "code",
   "execution_count": null,
   "metadata": {},
   "outputs": [],
   "source": []
  },
  {
   "cell_type": "code",
   "execution_count": 49,
   "metadata": {},
   "outputs": [],
   "source": [
    "from hyperopt import Trials,STATUS_OK,tpe\n",
    "from hyperas import optim\n",
    "from hyperas.distributions import choice,uniform"
   ]
  },
  {
   "cell_type": "code",
   "execution_count": 50,
   "metadata": {},
   "outputs": [],
   "source": [
    "def data():\n",
    "    X_train=pd.read_csv('Train_data_processed.csv',index_col='Unnamed: 0').values\n",
    "    y_train=pd.read_csv('train_labels.csv',index_col='Unnamed: 0')['Price'].values\n",
    "    X_val=pd.read_csv('Validation_data_processed.csv',index_col='Unnamed: 0').values\n",
    "    y_val=pd.read_csv('validation_lables.csv',index_col='Unnamed: 0')['Price'].values\n",
    "    return X_train,y_train,X_val,y_val"
   ]
  },
  {
   "cell_type": "code",
   "execution_count": 51,
   "metadata": {},
   "outputs": [],
   "source": [
    "def model(X_train,y_train,X_val,y_val):\n",
    "    model=Sequential()\n",
    "    model.add(Dense({{choice([128,256,512,1024])}},input_shape=(37,),kernel_initializer='normal'))\n",
    "    model.add(Activation({{choice(['relu','tanh','sigmoid'])}}))\n",
    "    model.add(Dropout({{uniform(0,1)}}))\n",
    "    \n",
    "    model.add(Dense({{choice([128,256,512,1024])}},kernel_initializer='normal'))\n",
    "    model.add(Activation({{choice(['relu','tanh','sigmoid'])}}))\n",
    "    model.add(Dropout({{uniform(0,1)}}))\n",
    "    \n",
    "    model.add(Dense({{choice([128,256,512,1024])}},kernel_initializer='normal'))\n",
    "    model.add(Activation({{choice(['relu','tanh','sigmoid'])}}))\n",
    "    model.add(Dropout({{uniform(0,1)}}))\n",
    "    \n",
    "    model.add(Dense({{choice([128,256,512,1024])}},kernel_initializer='normal'))\n",
    "    model.add(Activation({{choice(['relu','tanh','sigmoid'])}}))\n",
    "    model.add(Dropout({{uniform(0,1)}}))\n",
    "   \n",
    "    if {{choice(['four','five'])}}=='five':\n",
    "        model.add(Dense({{choice([128,256,512,1024])}},kernel_initializer='normal'))\n",
    "        model.add(Activation({{choice(['relu','tanh','sigmoid'])}}))\n",
    "        model.add(Dropout({{uniform(0,1)}}))\n",
    "        \n",
    "    model.add(Dense(1))    \n",
    "    \n",
    "    adam=keras.optimizers.Adam(lr={{choice([10**(-3),10**(-2),10**(-1)])}})\n",
    "    rmsprop=keras.optimizers.RMSprop(lr={{choice([10**(-3),10**(-2),10**(-1)])}})\n",
    "    sgd=keras.optimizers.SGD(lr={{choice([10**(-3),10**(-2),10**(-1)])}})\n",
    "    \n",
    "    choiceval={{choice(['adam','rmsprop','sgd'])}}\n",
    "    if choiceval=='adam':\n",
    "        optim=adam\n",
    "    elif choiceval=='rmsprop':\n",
    "        optim=rmsprop\n",
    "    else :\n",
    "        optim=sgd\n",
    "        \n",
    "    model.compile(loss='mae',optimizer=optim)\n",
    "    \n",
    "    model.fit(X_train,y_train,batch_size={{choice([128,256,512])}},\n",
    "              epochs=20,\n",
    "              verbose=2,\n",
    "              validation_data=(X_val,y_val))\n",
    "    score=model.evaluate(X_val,y_val,verbose=2)\n",
    "    return {'loss': score, 'status': STATUS_OK, 'model': model}\n",
    "    "
   ]
  },
  {
   "cell_type": "code",
   "execution_count": 52,
   "metadata": {},
   "outputs": [
    {
     "name": "stdout",
     "output_type": "stream",
     "text": [
      ">>> Imports:\n",
      "#coding=utf-8\n",
      "\n",
      "try:\n",
      "    import numpy as np\n",
      "except:\n",
      "    pass\n",
      "\n",
      "try:\n",
      "    import pandas as pd\n",
      "except:\n",
      "    pass\n",
      "\n",
      "try:\n",
      "    import matplotlib.pyplot as plt\n",
      "except:\n",
      "    pass\n",
      "\n",
      "try:\n",
      "    from tqdm import tqdm\n",
      "except:\n",
      "    pass\n",
      "\n",
      "try:\n",
      "    import keras\n",
      "except:\n",
      "    pass\n",
      "\n",
      "try:\n",
      "    import sklearn\n",
      "except:\n",
      "    pass\n",
      "\n",
      "try:\n",
      "    from sklearn.model_selection import train_test_split\n",
      "except:\n",
      "    pass\n",
      "\n",
      "try:\n",
      "    from sklearn.linear_model import LinearRegression\n",
      "except:\n",
      "    pass\n",
      "\n",
      "try:\n",
      "    from sklearn.tree import DecisionTreeRegressor\n",
      "except:\n",
      "    pass\n",
      "\n",
      "try:\n",
      "    from keras.layers import Dense, Activation, Dropout\n",
      "except:\n",
      "    pass\n",
      "\n",
      "try:\n",
      "    from keras.models import Sequential\n",
      "except:\n",
      "    pass\n",
      "\n",
      "try:\n",
      "    from keras.optimizers import Adam, RMSprop\n",
      "except:\n",
      "    pass\n",
      "\n",
      "try:\n",
      "    from hyperopt import Trials, STATUS_OK, tpe\n",
      "except:\n",
      "    pass\n",
      "\n",
      "try:\n",
      "    from hyperas import optim\n",
      "except:\n",
      "    pass\n",
      "\n",
      "try:\n",
      "    from hyperas.distributions import choice, uniform\n",
      "except:\n",
      "    pass\n",
      "\n",
      ">>> Hyperas search space:\n",
      "\n",
      "def get_space():\n",
      "    return {\n",
      "        'Dense': hp.choice('Dense', [128,256,512,1024]),\n",
      "        'Activation': hp.choice('Activation', ['relu','tanh','sigmoid']),\n",
      "        'Dropout': hp.uniform('Dropout', 0,1),\n",
      "        'Dense_1': hp.choice('Dense_1', [128,256,512,1024]),\n",
      "        'Activation_1': hp.choice('Activation_1', ['relu','tanh','sigmoid']),\n",
      "        'Dropout_1': hp.uniform('Dropout_1', 0,1),\n",
      "        'Dense_2': hp.choice('Dense_2', [128,256,512,1024]),\n",
      "        'Activation_2': hp.choice('Activation_2', ['relu','tanh','sigmoid']),\n",
      "        'Dropout_2': hp.uniform('Dropout_2', 0,1),\n",
      "        'Dense_3': hp.choice('Dense_3', [128,256,512,1024]),\n",
      "        'Activation_3': hp.choice('Activation_3', ['relu','tanh','sigmoid']),\n",
      "        'Dropout_3': hp.uniform('Dropout_3', 0,1),\n",
      "        'Dropout_4': hp.choice('Dropout_4', ['four','five']),\n",
      "        'Dense_4': hp.choice('Dense_4', [128,256,512,1024]),\n",
      "        'Activation_4': hp.choice('Activation_4', ['relu','tanh','sigmoid']),\n",
      "        'Dropout_5': hp.uniform('Dropout_5', 0,1),\n",
      "        'lr': hp.choice('lr', [10**(-3),10**(-2),10**(-1)]),\n",
      "        'lr_1': hp.choice('lr_1', [10**(-3),10**(-2),10**(-1)]),\n",
      "        'lr_2': hp.choice('lr_2', [10**(-3),10**(-2),10**(-1)]),\n",
      "        'choiceval': hp.choice('choiceval', ['adam','rmsprop','sgd']),\n",
      "        'batch_size': hp.choice('batch_size', [128,256,512]),\n",
      "    }\n",
      "\n",
      ">>> Data\n",
      "  1: \n",
      "  2: X_train=pd.read_csv('Train_data_processed.csv',index_col='Unnamed: 0').values\n",
      "  3: y_train=pd.read_csv('train_labels.csv',index_col='Unnamed: 0')['Price'].values\n",
      "  4: X_val=pd.read_csv('Validation_data_processed.csv',index_col='Unnamed: 0').values\n",
      "  5: y_val=pd.read_csv('validation_lables.csv',index_col='Unnamed: 0')['Price'].values\n",
      "  6: \n",
      "  7: \n",
      "  8: \n",
      ">>> Resulting replaced keras model:\n",
      "\n",
      "   1: def keras_fmin_fnct(space):\n",
      "   2: \n",
      "   3:     model=Sequential()\n",
      "   4:     model.add(Dense(space['Dense'],input_shape=(37,),kernel_initializer='normal'))\n",
      "   5:     model.add(Activation(space['Activation']))\n",
      "   6:     model.add(Dropout(space['Dropout']))\n",
      "   7:     \n",
      "   8:     model.add(Dense(space['Dense_1'],kernel_initializer='normal'))\n",
      "   9:     model.add(Activation(space['Activation_1']))\n",
      "  10:     model.add(Dropout(space['Dropout_1']))\n",
      "  11:     \n",
      "  12:     model.add(Dense(space['Dense_2'],kernel_initializer='normal'))\n",
      "  13:     model.add(Activation(space['Activation_2']))\n",
      "  14:     model.add(Dropout(space['Dropout_2']))\n",
      "  15:     \n",
      "  16:     model.add(Dense(space['Dense_3'],kernel_initializer='normal'))\n",
      "  17:     model.add(Activation(space['Activation_3']))\n",
      "  18:     model.add(Dropout(space['Dropout_3']))\n",
      "  19:    \n",
      "  20:     if space['Dropout_4']=='five':\n",
      "  21:         model.add(Dense(space['Dense_4'],kernel_initializer='normal'))\n",
      "  22:         model.add(Activation(space['Activation_4']))\n",
      "  23:         model.add(Dropout(space['Dropout_5']))\n",
      "  24:         \n",
      "  25:     model.add(Dense(1))    \n",
      "  26:     \n",
      "  27:     adam=keras.optimizers.Adam(lr=space['lr'])\n",
      "  28:     rmsprop=keras.optimizers.RMSprop(lr=space['lr_1'])\n",
      "  29:     sgd=keras.optimizers.SGD(lr=space['lr_2'])\n",
      "  30:     \n",
      "  31:     choiceval=space['choiceval']\n",
      "  32:     if choiceval=='adam':\n",
      "  33:         optim=adam\n",
      "  34:     elif choiceval=='rmsprop':\n",
      "  35:         optim=rmsprop\n",
      "  36:     else :\n",
      "  37:         optim=sgd\n",
      "  38:         \n",
      "  39:     model.compile(loss='mae',optimizer=optim)\n",
      "  40:     \n",
      "  41:     model.fit(X_train,y_train,batch_size=space['batch_size'],\n",
      "  42:               epochs=20,\n",
      "  43:               verbose=2,\n",
      "  44:               validation_data=(X_val,y_val))\n",
      "  45:     score=model.evaluate(X_val,y_val,verbose=2)\n",
      "  46:     return {'loss': score, 'status': STATUS_OK, 'model': model}\n",
      "  47: \n",
      "Train on 7209 samples, validate on 801 samples     \n",
      "Epoch 1/20                                         \n",
      " - 5s - loss: 8822.6245 - val_loss: 8573.0049      \n",
      "\n",
      "Epoch 2/20                                         \n",
      " - 4s - loss: 8088.1148 - val_loss: 7828.5887      \n",
      "\n",
      "Epoch 3/20                                         \n",
      " - 4s - loss: 7344.1009 - val_loss: 7089.0133      \n",
      "\n",
      "Epoch 4/20                                         \n",
      " - 2s - loss: 6620.8129 - val_loss: 6387.7581      \n",
      "\n",
      "Epoch 5/20                                         \n",
      " - 2s - loss: 5937.5268 - val_loss: 5737.2895      \n",
      "\n",
      "Epoch 6/20                                         \n",
      " - 3s - loss: 5337.7590 - val_loss: 5237.1572      \n",
      "\n",
      "Epoch 7/20                                         \n",
      " - 3s - loss: 4902.3479 - val_loss: 4860.6216      \n",
      "\n",
      "Epoch 8/20                                         \n",
      " - 2s - loss: 4589.4145 - val_loss: 4594.9576      \n",
      "\n",
      "Epoch 9/20                                         \n",
      " - 2s - loss: 4372.8177 - val_loss: 4400.1322      \n",
      "\n",
      "Epoch 10/20                                        \n",
      " - 2s - loss: 4208.0168 - val_loss: 4242.3567      \n",
      "\n",
      "Epoch 11/20                                        \n",
      " - 2s - loss: 4071.5304 - val_loss: 4116.5275      \n",
      "\n",
      "Epoch 12/20                                        \n",
      " - 2s - loss: 3963.8014 - val_loss: 4021.7342      \n",
      "\n",
      "Epoch 13/20                                        \n",
      " - 2s - loss: 3887.9437 - val_loss: 3947.4037      \n",
      "\n",
      "Epoch 14/20                                        \n",
      " - 2s - loss: 3817.5927 - val_loss: 3888.0535      \n",
      "\n",
      "Epoch 15/20                                        \n",
      " - 2s - loss: 3764.7071 - val_loss: 3839.6764      \n",
      "\n",
      "Epoch 16/20                                        \n",
      " - 2s - loss: 3728.8174 - val_loss: 3801.9876      \n",
      "\n",
      "Epoch 17/20                                        \n",
      " - 2s - loss: 3703.4736 - val_loss: 3778.4102      \n",
      "\n",
      "Epoch 18/20                                        \n",
      " - 2s - loss: 3675.3531 - val_loss: 3761.0984      \n",
      "\n",
      "Epoch 19/20                                        \n",
      " - 2s - loss: 3662.8992 - val_loss: 3746.5568      \n",
      "\n",
      "Epoch 20/20                                        \n",
      " - 2s - loss: 3650.7679 - val_loss: 3734.6066      \n",
      "\n",
      "Train on 7209 samples, validate on 801 samples                             \n",
      "Epoch 1/20                                                                 \n",
      " - 1s - loss: 8154.6678 - val_loss: 5734.5692                              \n",
      "\n",
      "Epoch 2/20                                                                 \n",
      " - 1s - loss: 4565.8949 - val_loss: 3895.5426                              \n",
      "\n",
      "Epoch 3/20                                                                 \n",
      " - 1s - loss: 4297.9054 - val_loss: 3861.6596                              \n",
      "\n",
      "Epoch 4/20                                                                 \n",
      " - 1s - loss: 4227.6703 - val_loss: 3701.8832                              \n",
      "\n",
      "Epoch 5/20                                                                 \n",
      " - 1s - loss: 4172.8850 - val_loss: 3727.7562                              \n",
      "\n",
      "Epoch 6/20                                                                 \n",
      " - 1s - loss: 4155.7085 - val_loss: 3723.9272                              \n",
      "\n",
      "Epoch 7/20                                                                 \n",
      " - 1s - loss: 4195.9722 - val_loss: 3713.0372                              \n",
      "\n",
      "Epoch 8/20                                                                 \n",
      " - 1s - loss: 4109.5687 - val_loss: 3756.9214                              \n",
      "\n",
      "Epoch 9/20                                                                 \n"
     ]
    },
    {
     "name": "stdout",
     "output_type": "stream",
     "text": [
      " - 1s - loss: 4145.1098 - val_loss: 3730.4938                              \n",
      "\n",
      "Epoch 10/20                                                                \n",
      " - 1s - loss: 4136.8073 - val_loss: 3782.4499                              \n",
      "\n",
      "Epoch 11/20                                                                \n",
      " - 1s - loss: 4100.1504 - val_loss: 3799.2071                              \n",
      "\n",
      "Epoch 12/20                                                                \n",
      " - 1s - loss: 4078.0635 - val_loss: 3746.0738                              \n",
      "\n",
      "Epoch 13/20                                                                \n",
      " - 1s - loss: 4117.0904 - val_loss: 3875.7228                              \n",
      "\n",
      "Epoch 14/20                                                                \n",
      " - 1s - loss: 4057.2004 - val_loss: 3837.0849                              \n",
      "\n",
      "Epoch 15/20                                                                \n",
      " - 1s - loss: 4049.3299 - val_loss: 3940.6716                              \n",
      "\n",
      "Epoch 16/20                                                                \n",
      " - 1s - loss: 4040.5082 - val_loss: 4021.0080                              \n",
      "\n",
      "Epoch 17/20                                                                \n",
      " - 1s - loss: 4043.5404 - val_loss: 4051.8486                              \n",
      "\n",
      "Epoch 18/20                                                                \n",
      " - 1s - loss: 4007.0287 - val_loss: 4238.1184                              \n",
      "\n",
      "Epoch 19/20                                                                \n",
      " - 1s - loss: 4003.7064 - val_loss: 4249.5663                              \n",
      "\n",
      "Epoch 20/20                                                                \n",
      " - 1s - loss: 4000.6930 - val_loss: 4263.9587                              \n",
      "\n",
      "Train on 7209 samples, validate on 801 samples                             \n",
      "Epoch 1/20                                                                 \n",
      " - 3s - loss: 5018.2607 - val_loss: 3828.9796                              \n",
      "\n",
      "Epoch 2/20                                                                 \n",
      " - 2s - loss: 4561.5420 - val_loss: 3747.5945                              \n",
      "\n",
      "Epoch 3/20                                                                 \n",
      " - 2s - loss: 4609.5498 - val_loss: 3753.4598                              \n",
      "\n",
      "Epoch 4/20                                                                 \n",
      " - 2s - loss: 4626.8457 - val_loss: 3873.7607                              \n",
      "\n",
      "Epoch 5/20                                                                 \n",
      " - 2s - loss: 4629.9934 - val_loss: 3744.5975                              \n",
      "\n",
      "Epoch 6/20                                                                 \n",
      " - 2s - loss: 4702.6211 - val_loss: 3947.2704                              \n",
      "\n",
      "Epoch 7/20                                                                 \n",
      " - 2s - loss: 4724.1398 - val_loss: 3998.6370                              \n",
      "\n",
      "Epoch 8/20                                                                 \n",
      " - 2s - loss: 4786.5431 - val_loss: 3981.5217                              \n",
      "\n",
      "Epoch 9/20                                                                 \n",
      " - 2s - loss: 4869.8650 - val_loss: 3974.2035                              \n",
      "\n",
      "Epoch 10/20                                                                \n",
      " - 2s - loss: 4790.4402 - val_loss: 4037.9640                              \n",
      "\n",
      "Epoch 11/20                                                                \n",
      " - 2s - loss: 4873.0021 - val_loss: 4338.6525                              \n",
      "\n",
      "Epoch 12/20                                                                \n",
      " - 2s - loss: 4837.8059 - val_loss: 4260.6905                              \n",
      "\n",
      "Epoch 13/20                                                                \n",
      " - 2s - loss: 4866.1649 - val_loss: 4207.9794                              \n",
      "\n",
      "Epoch 14/20                                                                \n",
      " - 2s - loss: 4865.8896 - val_loss: 4388.6607                              \n",
      "\n",
      "Epoch 15/20                                                                \n",
      " - 2s - loss: 4822.2152 - val_loss: 4497.4482                              \n",
      "\n",
      "Epoch 16/20                                                                \n",
      " - 2s - loss: 4930.6196 - val_loss: 4239.0064                              \n",
      "\n",
      "Epoch 17/20                                                                \n",
      " - 2s - loss: 4928.2079 - val_loss: 4488.7874                              \n",
      "\n",
      "Epoch 18/20                                                                \n",
      " - 2s - loss: 4951.6129 - val_loss: 4651.2755                              \n",
      "\n",
      "Epoch 19/20                                                                \n",
      " - 2s - loss: 4976.2260 - val_loss: 4250.3071                              \n",
      "\n",
      "Epoch 20/20                                                                \n",
      " - 2s - loss: 4963.9708 - val_loss: 4718.7243                              \n",
      "\n",
      "Train on 7209 samples, validate on 801 samples                             \n",
      "Epoch 1/20                                                                 \n",
      " - 1s - loss: 9080.5508 - val_loss: 9198.8908                              \n",
      "\n",
      "Epoch 2/20                                                                 \n",
      " - 1s - loss: 9051.2507 - val_loss: 9174.2698                              \n",
      "\n",
      "Epoch 3/20                                                                 \n",
      " - 1s - loss: 9027.2714 - val_loss: 9150.7635                              \n",
      "\n",
      "Epoch 4/20                                                                 \n",
      " - 1s - loss: 9003.8746 - val_loss: 9127.4666                              \n",
      "\n",
      "Epoch 5/20                                                                 \n",
      " - 1s - loss: 8980.5544 - val_loss: 9104.2093                              \n",
      "\n",
      "Epoch 6/20                                                                 \n",
      " - 1s - loss: 8957.3676 - val_loss: 9080.9659                              \n",
      "\n",
      "Epoch 7/20                                                                 \n",
      " - 1s - loss: 8934.0221 - val_loss: 9057.7159                              \n",
      "\n",
      "Epoch 8/20                                                                 \n",
      " - 1s - loss: 8910.8989 - val_loss: 9034.4918                              \n",
      "\n",
      "Epoch 9/20                                                                 \n",
      " - 1s - loss: 8887.5683 - val_loss: 9011.2360                              \n",
      "\n",
      "Epoch 10/20                                                                \n",
      " - 1s - loss: 8864.3739 - val_loss: 8988.0122                              \n",
      "\n",
      "Epoch 11/20                                                                \n",
      " - 1s - loss: 8841.1879 - val_loss: 8964.7628                              \n",
      "\n",
      "Epoch 12/20                                                                \n",
      " - 1s - loss: 8817.7259 - val_loss: 8941.5122                              \n",
      "\n",
      "Epoch 13/20                                                                \n",
      " - 1s - loss: 8794.5866 - val_loss: 8918.2784                              \n",
      "\n",
      "Epoch 14/20                                                                \n",
      " - 1s - loss: 8771.4108 - val_loss: 8895.0422                              \n",
      "\n",
      "Epoch 15/20                                                                \n",
      " - 1s - loss: 8748.0669 - val_loss: 8871.7734                              \n",
      "\n",
      "Epoch 16/20                                                                \n",
      " - 1s - loss: 8724.7756 - val_loss: 8848.5514                              \n",
      "\n",
      "Epoch 17/20                                                                \n",
      " - 1s - loss: 8701.7617 - val_loss: 8825.3033                              \n",
      "\n",
      "Epoch 18/20                                                                \n",
      " - 1s - loss: 8678.4579 - val_loss: 8802.0559                              \n",
      "\n",
      "Epoch 19/20                                                                \n",
      " - 1s - loss: 8655.3163 - val_loss: 8778.8260                              \n",
      "\n",
      "Epoch 20/20                                                                \n",
      " - 1s - loss: 8632.0713 - val_loss: 8755.5823                              \n",
      "\n",
      "Train on 7209 samples, validate on 801 samples                             \n",
      "Epoch 1/20                                                                 \n"
     ]
    },
    {
     "name": "stdout",
     "output_type": "stream",
     "text": [
      " - 1s - loss: 4687.2165 - val_loss: 3954.1981                              \n",
      "\n",
      "Epoch 2/20                                                                 \n",
      " - 1s - loss: 3796.0112 - val_loss: 3706.5907                              \n",
      "\n",
      "Epoch 3/20                                                                 \n",
      " - 2s - loss: 4099.9804 - val_loss: 3730.4858                              \n",
      "\n",
      "Epoch 4/20                                                                 \n",
      " - 1s - loss: 3976.6013 - val_loss: 3769.6620                              \n",
      "\n",
      "Epoch 5/20                                                                 \n",
      " - 1s - loss: 3956.0032 - val_loss: 3791.1372                              \n",
      "\n",
      "Epoch 6/20                                                                 \n",
      " - 1s - loss: 4105.5571 - val_loss: 3690.9780                              \n",
      "\n",
      "Epoch 7/20                                                                 \n",
      " - 1s - loss: 4056.4247 - val_loss: 4090.5096                              \n",
      "\n",
      "Epoch 8/20                                                                 \n",
      " - 1s - loss: 4161.2623 - val_loss: 4139.8480                              \n",
      "\n",
      "Epoch 9/20                                                                 \n",
      " - 1s - loss: 4085.9720 - val_loss: 3764.8530                              \n",
      "\n",
      "Epoch 10/20                                                                \n",
      " - 1s - loss: 3974.6036 - val_loss: 3745.4264                              \n",
      "\n",
      "Epoch 11/20                                                                \n",
      " - 1s - loss: 4355.3498 - val_loss: 4853.1444                              \n",
      "\n",
      "Epoch 12/20                                                                \n",
      " - 1s - loss: 4076.4488 - val_loss: 3999.2607                              \n",
      "\n",
      "Epoch 13/20                                                                \n",
      " - 1s - loss: 4883.4594 - val_loss: 4519.2049                              \n",
      "\n",
      "Epoch 14/20                                                                \n",
      " - 1s - loss: 4234.8119 - val_loss: 3692.8343                              \n",
      "\n",
      "Epoch 15/20                                                                \n",
      " - 1s - loss: 4494.3268 - val_loss: 3873.1781                              \n",
      "\n",
      "Epoch 16/20                                                                \n",
      " - 1s - loss: 3923.1707 - val_loss: 3689.4961                              \n",
      "\n",
      "Epoch 17/20                                                                \n",
      " - 1s - loss: 4337.2261 - val_loss: 3702.8046                              \n",
      "\n",
      "Epoch 18/20                                                                \n",
      " - 1s - loss: 4057.9034 - val_loss: 4454.5711                              \n",
      "\n",
      "Epoch 19/20                                                                \n",
      " - 1s - loss: 3882.9111 - val_loss: 4890.4315                              \n",
      "\n",
      "Epoch 20/20                                                                \n",
      " - 1s - loss: 4285.1040 - val_loss: 3706.9036                              \n",
      "\n",
      "100%|██████████| 5/5 [02:32<00:00, 30.83s/it, best loss: 3706.903787258115]\n"
     ]
    }
   ],
   "source": [
    "X_train,y_train,X_val,y_val=data()\n",
    "best_run, best_model = optim.minimize(model=model,\n",
    "                                      data=data,\n",
    "                                      algo=tpe.suggest,\n",
    "                                      max_evals=5,\n",
    "                                      trials=Trials(),\n",
    "                                      notebook_name='Code')"
   ]
  },
  {
   "cell_type": "markdown",
   "metadata": {},
   "source": [
    "model=Sequential()\n",
    "model.add(Dense(1024,input_shape=(37,)))\n",
    "model.add(Activation('relu'))\n",
    "model.add(Dropout(0.2))\n",
    "model.add(Dense(1024))\n",
    "model.add(Activation('relu'))\n",
    "model.add(Dropout(0.2))\n",
    "model.add(Dense(1024))\n",
    "model.add(Activation('relu'))\n",
    "model.add(Dropout(0.2))\n",
    "model.add(Dense(512))\n",
    "model.add(Activation('relu'))\n",
    "model.add(Dropout(0.2))\n",
    "model.add(Dense(512))\n",
    "model.add(Activation('relu'))\n",
    "model.add(Dropout(0.2))\n",
    "model.add(Dense(512))\n",
    "model.add(Activation('relu'))\n",
    "model.add(Dropout(0.2))\n",
    "model.add(Dense(256))\n",
    "model.add(Activation('relu'))\n",
    "model.add(Dense(128))\n",
    "model.add(Dropout(0.2))\n",
    "model.add(Activation('relu'))\n",
    "model.add(Dense(64))\n",
    "model.add(Activation('relu'))\n",
    "model.add(Dense(32))\n",
    "model.add(Dropout(0.2))\n",
    "model.add(Activation('relu'))\n",
    "model.add(Dense(16))\n",
    "model.add(Dense(1))\n",
    "model.summary()"
   ]
  },
  {
   "cell_type": "code",
   "execution_count": 53,
   "metadata": {},
   "outputs": [],
   "source": [
    "#model.compile(optimizer='rmsprop',loss=['mean_squared_error'])\n",
    "#z=model.fit(x=X_train,y=y_train,batch_size=32,epochs=100,verbose=2,validation_data=(X_test,y_test))"
   ]
  },
  {
   "cell_type": "code",
   "execution_count": 54,
   "metadata": {},
   "outputs": [],
   "source": [
    "#plt.figure(figsize=(10,7))\n",
    "#plt.plot(z.history['loss'],'r',label='Training_loss')\n",
    "#plt.plot(z.history['val_loss'],'b',label='Test_loss')\n",
    "#plt.legend()\n",
    "#plt.show()"
   ]
  },
  {
   "cell_type": "code",
   "execution_count": 55,
   "metadata": {},
   "outputs": [
    {
     "name": "stdout",
     "output_type": "stream",
     "text": [
      "<keras.engine.sequential.Sequential object at 0x1a2ee77668>\n"
     ]
    }
   ],
   "source": [
    "print(best_model)"
   ]
  },
  {
   "cell_type": "code",
   "execution_count": 56,
   "metadata": {},
   "outputs": [
    {
     "name": "stdout",
     "output_type": "stream",
     "text": [
      "{'Activation': 1, 'Activation_1': 0, 'Activation_2': 2, 'Activation_3': 0, 'Activation_4': 1, 'Dense': 3, 'Dense_1': 1, 'Dense_2': 2, 'Dense_3': 1, 'Dense_4': 2, 'Dropout': 0.4350595881468875, 'Dropout_1': 0.3720818863636862, 'Dropout_2': 0.7933149323928275, 'Dropout_3': 0.5373718127140085, 'Dropout_4': 0, 'Dropout_5': 0.9532739136720357, 'batch_size': 2, 'choiceval': 1, 'lr': 2, 'lr_1': 2, 'lr_2': 0}\n"
     ]
    }
   ],
   "source": [
    "print(best_run)"
   ]
  },
  {
   "cell_type": "code",
   "execution_count": 64,
   "metadata": {},
   "outputs": [
    {
     "name": "stdout",
     "output_type": "stream",
     "text": [
      "_________________________________________________________________\n",
      "Layer (type)                 Output Shape              Param #   \n",
      "=================================================================\n",
      "dense_39 (Dense)             (None, 1024)              38912     \n",
      "_________________________________________________________________\n",
      "dropout_29 (Dropout)         (None, 1024)              0         \n",
      "_________________________________________________________________\n",
      "dense_40 (Dense)             (None, 256)               262400    \n",
      "_________________________________________________________________\n",
      "dropout_30 (Dropout)         (None, 256)               0         \n",
      "_________________________________________________________________\n",
      "dense_41 (Dense)             (None, 512)               131584    \n",
      "_________________________________________________________________\n",
      "dropout_31 (Dropout)         (None, 512)               0         \n",
      "_________________________________________________________________\n",
      "dense_42 (Dense)             (None, 256)               131328    \n",
      "_________________________________________________________________\n",
      "dropout_32 (Dropout)         (None, 256)               0         \n",
      "_________________________________________________________________\n",
      "dense_43 (Dense)             (None, 512)               131584    \n",
      "_________________________________________________________________\n",
      "dropout_33 (Dropout)         (None, 512)               0         \n",
      "_________________________________________________________________\n",
      "dense_44 (Dense)             (None, 1)                 513       \n",
      "=================================================================\n",
      "Total params: 696,321\n",
      "Trainable params: 696,321\n",
      "Non-trainable params: 0\n",
      "_________________________________________________________________\n"
     ]
    }
   ],
   "source": [
    "model=Sequential()\n",
    "model.add(Dense(1024,input_shape=(37,),activation='tanh'))\n",
    "model.add(Dropout(0.43))\n",
    "model.add(Dense(256,activation='relu'))\n",
    "model.add(Dropout(0.37))\n",
    "model.add(Dense(512,activation='sigmoid'))\n",
    "model.add(Dropout(0.79))\n",
    "model.add(Dense(256,activation='relu'))\n",
    "model.add(Dropout(0.53))\n",
    "model.add(Dense(512,activation='tanh'))\n",
    "model.add(Dropout(0))\n",
    "model.add(Dense(1))\n",
    "model.summary()"
   ]
  },
  {
   "cell_type": "code",
   "execution_count": 66,
   "metadata": {},
   "outputs": [],
   "source": [
    "model.compile(RMSprop(lr=0.1),loss='mae')"
   ]
  },
  {
   "cell_type": "code",
   "execution_count": 70,
   "metadata": {},
   "outputs": [
    {
     "name": "stdout",
     "output_type": "stream",
     "text": [
      "Train on 7209 samples, validate on 2671 samples\n",
      "Epoch 1/10\n",
      " - 2s - loss: 3603.3263 - val_loss: 3646.4562\n",
      "Epoch 2/10\n",
      " - 2s - loss: 3602.3784 - val_loss: 3644.4810\n",
      "Epoch 3/10\n",
      " - 1s - loss: 3602.8445 - val_loss: 3646.3846\n",
      "Epoch 4/10\n",
      " - 1s - loss: 3602.9807 - val_loss: 3646.6030\n",
      "Epoch 5/10\n",
      " - 2s - loss: 3603.2573 - val_loss: 3650.1463\n",
      "Epoch 6/10\n",
      " - 1s - loss: 3603.1230 - val_loss: 3644.9935\n",
      "Epoch 7/10\n",
      " - 2s - loss: 3603.2631 - val_loss: 3645.2619\n",
      "Epoch 8/10\n",
      " - 1s - loss: 3603.1816 - val_loss: 3648.3008\n",
      "Epoch 9/10\n",
      " - 1s - loss: 3603.1729 - val_loss: 3651.1869\n",
      "Epoch 10/10\n",
      " - 1s - loss: 3601.6592 - val_loss: 3643.8358\n"
     ]
    }
   ],
   "source": [
    "z=model.fit(X_train,y_train,batch_size=128,epochs=10,verbose=2,validation_data=(X_test,y_test))"
   ]
  },
  {
   "cell_type": "code",
   "execution_count": 74,
   "metadata": {},
   "outputs": [
    {
     "data": {
      "image/png": "[encoded data removed]",
      "text/plain": [
       "<Figure size 720x504 with 1 Axes>"
      ]
     },
     "metadata": {},
     "output_type": "display_data"
    }
   ],
   "source": [
    "plt.figure(figsize=(10,7))\n",
    "plt.plot(z.history['loss'],'b',label='train_loss')\n",
    "plt.plot(z.history['val_loss'],'r',label='test_loss')\n",
    "plt.legend()\n",
    "plt.show()"
   ]
  },
  {
   "cell_type": "code",
   "execution_count": null,
   "metadata": {},
   "outputs": [],
   "source": []
  }
 ],
 "metadata": {
  "kernelspec": {
   "display_name": "Python 3",
   "language": "python",
   "name": "python3"
  },
  "language_info": {
   "codemirror_mode": {
    "name": "ipython",
    "version": 3
   },
   "file_extension": ".py",
   "mimetype": "text/x-python",
   "name": "python",
   "nbconvert_exporter": "python",
   "pygments_lexer": "ipython3",
   "version": "3.6.5"
  }
 },
 "nbformat": 4,
 "nbformat_minor": 2
}
