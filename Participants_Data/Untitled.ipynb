{
 "cells": [
  {
   "cell_type": "code",
   "execution_count": 88,
   "metadata": {},
   "outputs": [],
   "source": [
    "import numpy as np\n",
    "import pandas as pd\n",
    "import matplotlib.pyplot as plt\n",
    "import tensorflow as tf\n",
    "import pickle\n",
    "import tensorflow\n",
    "from sklearn.preprocessing import OneHotEncoder "
   ]
  },
  {
   "cell_type": "code",
   "execution_count": 89,
   "metadata": {},
   "outputs": [
    {
     "data": {
      "text/html": [
       "<div>\n",
       "<style scoped>\n",
       "    .dataframe tbody tr th:only-of-type {\n",
       "        vertical-align: middle;\n",
       "    }\n",
       "\n",
       "    .dataframe tbody tr th {\n",
       "        vertical-align: top;\n",
       "    }\n",
       "\n",
       "    .dataframe thead th {\n",
       "        text-align: right;\n",
       "    }\n",
       "</style>\n",
       "<table border=\"1\" class=\"dataframe\">\n",
       "  <thead>\n",
       "    <tr style=\"text-align: right;\">\n",
       "      <th></th>\n",
       "      <th>Title</th>\n",
       "      <th>Author</th>\n",
       "      <th>Edition</th>\n",
       "      <th>Reviews</th>\n",
       "      <th>Ratings</th>\n",
       "      <th>Synopsis</th>\n",
       "      <th>Genre</th>\n",
       "      <th>BookCategory</th>\n",
       "      <th>Price</th>\n",
       "    </tr>\n",
       "  </thead>\n",
       "  <tbody>\n",
       "    <tr>\n",
       "      <th>0</th>\n",
       "      <td>The Prisoner's Gold (The Hunters 3)</td>\n",
       "      <td>Chris Kuzneski</td>\n",
       "      <td>Paperback,– 10 Mar 2016</td>\n",
       "      <td>4.0 out of 5 stars</td>\n",
       "      <td>8 customer reviews</td>\n",
       "      <td>THE HUNTERS return in their third brilliant no...</td>\n",
       "      <td>Action &amp; Adventure (Books)</td>\n",
       "      <td>Action &amp; Adventure</td>\n",
       "      <td>220.00</td>\n",
       "    </tr>\n",
       "    <tr>\n",
       "      <th>1</th>\n",
       "      <td>Guru Dutt: A Tragedy in Three Acts</td>\n",
       "      <td>Arun Khopkar</td>\n",
       "      <td>Paperback,– 7 Nov 2012</td>\n",
       "      <td>3.9 out of 5 stars</td>\n",
       "      <td>14 customer reviews</td>\n",
       "      <td>A layered portrait of a troubled genius for wh...</td>\n",
       "      <td>Cinema &amp; Broadcast (Books)</td>\n",
       "      <td>Biographies, Diaries &amp; True Accounts</td>\n",
       "      <td>202.93</td>\n",
       "    </tr>\n",
       "    <tr>\n",
       "      <th>2</th>\n",
       "      <td>Leviathan (Penguin Classics)</td>\n",
       "      <td>Thomas Hobbes</td>\n",
       "      <td>Paperback,– 25 Feb 1982</td>\n",
       "      <td>4.8 out of 5 stars</td>\n",
       "      <td>6 customer reviews</td>\n",
       "      <td>\"During the time men live without a common Pow...</td>\n",
       "      <td>International Relations</td>\n",
       "      <td>Humour</td>\n",
       "      <td>299.00</td>\n",
       "    </tr>\n",
       "    <tr>\n",
       "      <th>3</th>\n",
       "      <td>A Pocket Full of Rye (Miss Marple)</td>\n",
       "      <td>Agatha Christie</td>\n",
       "      <td>Paperback,– 5 Oct 2017</td>\n",
       "      <td>4.1 out of 5 stars</td>\n",
       "      <td>13 customer reviews</td>\n",
       "      <td>A handful of grain is found in the pocket of a...</td>\n",
       "      <td>Contemporary Fiction (Books)</td>\n",
       "      <td>Crime, Thriller &amp; Mystery</td>\n",
       "      <td>180.00</td>\n",
       "    </tr>\n",
       "    <tr>\n",
       "      <th>4</th>\n",
       "      <td>LIFE 70 Years of Extraordinary Photography</td>\n",
       "      <td>Editors of Life</td>\n",
       "      <td>Hardcover,– 10 Oct 2006</td>\n",
       "      <td>5.0 out of 5 stars</td>\n",
       "      <td>1 customer review</td>\n",
       "      <td>For seven decades, \"Life\" has been thrilling t...</td>\n",
       "      <td>Photography Textbooks</td>\n",
       "      <td>Arts, Film &amp; Photography</td>\n",
       "      <td>965.62</td>\n",
       "    </tr>\n",
       "  </tbody>\n",
       "</table>\n",
       "</div>"
      ],
      "text/plain": [
       "                                        Title           Author  \\\n",
       "0         The Prisoner's Gold (The Hunters 3)   Chris Kuzneski   \n",
       "1          Guru Dutt: A Tragedy in Three Acts     Arun Khopkar   \n",
       "2                Leviathan (Penguin Classics)    Thomas Hobbes   \n",
       "3          A Pocket Full of Rye (Miss Marple)  Agatha Christie   \n",
       "4  LIFE 70 Years of Extraordinary Photography  Editors of Life   \n",
       "\n",
       "                   Edition             Reviews              Ratings  \\\n",
       "0  Paperback,– 10 Mar 2016  4.0 out of 5 stars   8 customer reviews   \n",
       "1   Paperback,– 7 Nov 2012  3.9 out of 5 stars  14 customer reviews   \n",
       "2  Paperback,– 25 Feb 1982  4.8 out of 5 stars   6 customer reviews   \n",
       "3   Paperback,– 5 Oct 2017  4.1 out of 5 stars  13 customer reviews   \n",
       "4  Hardcover,– 10 Oct 2006  5.0 out of 5 stars    1 customer review   \n",
       "\n",
       "                                            Synopsis  \\\n",
       "0  THE HUNTERS return in their third brilliant no...   \n",
       "1  A layered portrait of a troubled genius for wh...   \n",
       "2  \"During the time men live without a common Pow...   \n",
       "3  A handful of grain is found in the pocket of a...   \n",
       "4  For seven decades, \"Life\" has been thrilling t...   \n",
       "\n",
       "                          Genre                          BookCategory   Price  \n",
       "0    Action & Adventure (Books)                    Action & Adventure  220.00  \n",
       "1    Cinema & Broadcast (Books)  Biographies, Diaries & True Accounts  202.93  \n",
       "2       International Relations                                Humour  299.00  \n",
       "3  Contemporary Fiction (Books)             Crime, Thriller & Mystery  180.00  \n",
       "4         Photography Textbooks              Arts, Film & Photography  965.62  "
      ]
     },
     "execution_count": 89,
     "metadata": {},
     "output_type": "execute_result"
    }
   ],
   "source": [
    "train_data=pd.read_excel('Data_Train.xlsx')\n",
    "train_data.head()"
   ]
  },
  {
   "cell_type": "code",
   "execution_count": 90,
   "metadata": {},
   "outputs": [
    {
     "data": {
      "text/html": [
       "<div>\n",
       "<style scoped>\n",
       "    .dataframe tbody tr th:only-of-type {\n",
       "        vertical-align: middle;\n",
       "    }\n",
       "\n",
       "    .dataframe tbody tr th {\n",
       "        vertical-align: top;\n",
       "    }\n",
       "\n",
       "    .dataframe thead th {\n",
       "        text-align: right;\n",
       "    }\n",
       "</style>\n",
       "<table border=\"1\" class=\"dataframe\">\n",
       "  <thead>\n",
       "    <tr style=\"text-align: right;\">\n",
       "      <th></th>\n",
       "      <th>Title</th>\n",
       "      <th>Author</th>\n",
       "      <th>Edition</th>\n",
       "      <th>Reviews</th>\n",
       "      <th>Ratings</th>\n",
       "      <th>Synopsis</th>\n",
       "      <th>Genre</th>\n",
       "      <th>BookCategory</th>\n",
       "    </tr>\n",
       "  </thead>\n",
       "  <tbody>\n",
       "    <tr>\n",
       "      <th>0</th>\n",
       "      <td>The Complete Sherlock Holmes: 2 Boxes sets</td>\n",
       "      <td>Sir Arthur Conan Doyle</td>\n",
       "      <td>Mass Market Paperback,– 1 Oct 1986</td>\n",
       "      <td>4.4 out of 5 stars</td>\n",
       "      <td>960 customer reviews</td>\n",
       "      <td>A collection of entire body of work of the She...</td>\n",
       "      <td>Short Stories (Books)</td>\n",
       "      <td>Crime, Thriller &amp; Mystery</td>\n",
       "    </tr>\n",
       "    <tr>\n",
       "      <th>1</th>\n",
       "      <td>Learn Docker - Fundamentals of Docker 18.x: Ev...</td>\n",
       "      <td>Gabriel N. Schenker</td>\n",
       "      <td>Paperback,– Import, 26 Apr 2018</td>\n",
       "      <td>5.0 out of 5 stars</td>\n",
       "      <td>1 customer review</td>\n",
       "      <td>Enhance your software deployment workflow usin...</td>\n",
       "      <td>Operating Systems Textbooks</td>\n",
       "      <td>Computing, Internet &amp; Digital Media</td>\n",
       "    </tr>\n",
       "    <tr>\n",
       "      <th>2</th>\n",
       "      <td>Big Girl</td>\n",
       "      <td>Danielle Steel</td>\n",
       "      <td>Paperback,– 17 Mar 2011</td>\n",
       "      <td>5.0 out of 5 stars</td>\n",
       "      <td>4 customer reviews</td>\n",
       "      <td>'Watch out, world. Here I come!'\\nFor Victoria...</td>\n",
       "      <td>Romance (Books)</td>\n",
       "      <td>Romance</td>\n",
       "    </tr>\n",
       "    <tr>\n",
       "      <th>3</th>\n",
       "      <td>Think Python: How to Think Like a Computer Sci...</td>\n",
       "      <td>Allen B. Downey</td>\n",
       "      <td>Paperback,– 2016</td>\n",
       "      <td>4.1 out of 5 stars</td>\n",
       "      <td>11 customer reviews</td>\n",
       "      <td>If you want to learn how to program, working w...</td>\n",
       "      <td>Programming &amp; Software Development (Books)</td>\n",
       "      <td>Computing, Internet &amp; Digital Media</td>\n",
       "    </tr>\n",
       "    <tr>\n",
       "      <th>4</th>\n",
       "      <td>Oxford Word Skills: Advanced - Idioms &amp; Phrasa...</td>\n",
       "      <td>Redman Gairns</td>\n",
       "      <td>Paperback,– 26 Dec 2011</td>\n",
       "      <td>4.4 out of 5 stars</td>\n",
       "      <td>9 customer reviews</td>\n",
       "      <td>Learn and practise the verbs, prepositions and...</td>\n",
       "      <td>Linguistics (Books)</td>\n",
       "      <td>Language, Linguistics &amp; Writing</td>\n",
       "    </tr>\n",
       "  </tbody>\n",
       "</table>\n",
       "</div>"
      ],
      "text/plain": [
       "                                               Title                  Author  \\\n",
       "0         The Complete Sherlock Holmes: 2 Boxes sets  Sir Arthur Conan Doyle   \n",
       "1  Learn Docker - Fundamentals of Docker 18.x: Ev...     Gabriel N. Schenker   \n",
       "2                                           Big Girl          Danielle Steel   \n",
       "3  Think Python: How to Think Like a Computer Sci...         Allen B. Downey   \n",
       "4  Oxford Word Skills: Advanced - Idioms & Phrasa...           Redman Gairns   \n",
       "\n",
       "                              Edition             Reviews  \\\n",
       "0  Mass Market Paperback,– 1 Oct 1986  4.4 out of 5 stars   \n",
       "1     Paperback,– Import, 26 Apr 2018  5.0 out of 5 stars   \n",
       "2             Paperback,– 17 Mar 2011  5.0 out of 5 stars   \n",
       "3                    Paperback,– 2016  4.1 out of 5 stars   \n",
       "4             Paperback,– 26 Dec 2011  4.4 out of 5 stars   \n",
       "\n",
       "                Ratings                                           Synopsis  \\\n",
       "0  960 customer reviews  A collection of entire body of work of the She...   \n",
       "1     1 customer review  Enhance your software deployment workflow usin...   \n",
       "2    4 customer reviews  'Watch out, world. Here I come!'\\nFor Victoria...   \n",
       "3   11 customer reviews  If you want to learn how to program, working w...   \n",
       "4    9 customer reviews  Learn and practise the verbs, prepositions and...   \n",
       "\n",
       "                                        Genre  \\\n",
       "0                       Short Stories (Books)   \n",
       "1                 Operating Systems Textbooks   \n",
       "2                             Romance (Books)   \n",
       "3  Programming & Software Development (Books)   \n",
       "4                         Linguistics (Books)   \n",
       "\n",
       "                          BookCategory  \n",
       "0            Crime, Thriller & Mystery  \n",
       "1  Computing, Internet & Digital Media  \n",
       "2                              Romance  \n",
       "3  Computing, Internet & Digital Media  \n",
       "4      Language, Linguistics & Writing  "
      ]
     },
     "execution_count": 90,
     "metadata": {},
     "output_type": "execute_result"
    }
   ],
   "source": [
    "test_data=pd.read_excel(\"Data_Test.xlsx\")\n",
    "test_data.head()"
   ]
  },
  {
   "cell_type": "code",
   "execution_count": 91,
   "metadata": {},
   "outputs": [
    {
     "name": "stdout",
     "output_type": "stream",
     "text": [
      "6237\n",
      "1560\n"
     ]
    }
   ],
   "source": [
    "print(len(train_data))\n",
    "print(len(test_data))"
   ]
  },
  {
   "cell_type": "code",
   "execution_count": 92,
   "metadata": {},
   "outputs": [
    {
     "data": {
      "text/plain": [
       "3679"
      ]
     },
     "execution_count": 92,
     "metadata": {},
     "output_type": "execute_result"
    }
   ],
   "source": [
    "len(train_data['Author'].value_counts())"
   ]
  },
  {
   "cell_type": "code",
   "execution_count": 93,
   "metadata": {},
   "outputs": [
    {
     "data": {
      "text/plain": [
       "1224"
      ]
     },
     "execution_count": 93,
     "metadata": {},
     "output_type": "execute_result"
    }
   ],
   "source": [
    "len(test_data['Author'].value_counts())"
   ]
  },
  {
   "cell_type": "code",
   "execution_count": 94,
   "metadata": {},
   "outputs": [],
   "source": [
    "reviews_train=[]\n",
    "reviews_test=[]\n",
    "for i in train_data['Reviews'].values:\n",
    "    reviews_train.append(float(i.split()[0]))\n",
    "for i in test_data['Reviews'].values:\n",
    "    reviews_test.append(float(i.split()[0]))\n",
    "train_data['Reviews']=reviews_train \n",
    "test_data['Reviews']=reviews_test"
   ]
  },
  {
   "cell_type": "code",
   "execution_count": 95,
   "metadata": {},
   "outputs": [],
   "source": [
    "ratings_train=[]\n",
    "ratings_test=[]\n",
    "for i in train_data['Ratings'].values:\n",
    "    try:\n",
    "        ratings_train.append(int(i.split()[0]))\n",
    "    except:\n",
    "        z=i.split()[0]\n",
    "        ratings_train.append(int(z.split(',')[0])*1000+int(z.split(',')[1]))\n",
    "for i in test_data['Ratings'].values:\n",
    "    ratings_test.append(i.split()[0])    "
   ]
  },
  {
   "cell_type": "code",
   "execution_count": 96,
   "metadata": {},
   "outputs": [],
   "source": [
    "train_data['Ratings']=ratings_train\n",
    "test_data['Ratings']=ratings_test"
   ]
  },
  {
   "cell_type": "code",
   "execution_count": 97,
   "metadata": {},
   "outputs": [
    {
     "data": {
      "text/plain": [
       "Paperback,– 5 Oct 2017             48\n",
       "Paperback,– 2016                   46\n",
       "Paperback,– 2017                   36\n",
       "Paperback,– 2013                   31\n",
       "Paperback,– 2019                   30\n",
       "                                   ..\n",
       "Paperback,– Import, 28 Aug 2018     1\n",
       "Paperback,– Import, 10 Mar 1994     1\n",
       "Paperback,– 15 Feb 2010             1\n",
       "Hardcover,– Import, 27 Mar 2019     1\n",
       "Paperback,– 24 Jun 2013             1\n",
       "Name: Edition, Length: 3370, dtype: int64"
      ]
     },
     "execution_count": 97,
     "metadata": {},
     "output_type": "execute_result"
    }
   ],
   "source": [
    "train_data['Edition'].value_counts()"
   ]
  },
  {
   "cell_type": "code",
   "execution_count": 98,
   "metadata": {},
   "outputs": [],
   "source": [
    "train_edition=[]\n",
    "test_edition=[]\n",
    "for i in train_data['Edition'].values:\n",
    "    train_edition.append(i.split(\",\")[0])\n",
    "for i in test_data['Edition'].values:\n",
    "    test_edition.append(i.split(\",\")[0])   \n",
    "train_data['Edition']=train_edition\n",
    "test_data['Edition']=test_edition"
   ]
  },
  {
   "cell_type": "code",
   "execution_count": 99,
   "metadata": {},
   "outputs": [
    {
     "data": {
      "text/plain": [
       "19"
      ]
     },
     "execution_count": 99,
     "metadata": {},
     "output_type": "execute_result"
    }
   ],
   "source": [
    "len(pd.Series(train_edition).value_counts())"
   ]
  },
  {
   "cell_type": "code",
   "execution_count": 100,
   "metadata": {},
   "outputs": [
    {
     "data": {
      "text/plain": [
       "9"
      ]
     },
     "execution_count": 100,
     "metadata": {},
     "output_type": "execute_result"
    }
   ],
   "source": [
    "len(pd.Series(test_edition).value_counts())"
   ]
  },
  {
   "cell_type": "code",
   "execution_count": 101,
   "metadata": {},
   "outputs": [
    {
     "name": "stdout",
     "output_type": "stream",
     "text": [
      "14100.0\n",
      "25.0\n"
     ]
    }
   ],
   "source": [
    "print(train_data['Price'].max())\n",
    "print(train_data['Price'].min())"
   ]
  },
  {
   "cell_type": "code",
   "execution_count": 102,
   "metadata": {},
   "outputs": [
    {
     "data": {
      "text/plain": [
       "[<matplotlib.lines.Line2D at 0x14e942a90>]"
      ]
     },
     "execution_count": 102,
     "metadata": {},
     "output_type": "execute_result"
    },
    {
     "data": {
      "image/png": "[encoded data removed]",
      "text/plain": [
       "<Figure size 432x288 with 1 Axes>"
      ]
     },
     "metadata": {
      "needs_background": "light"
     },
     "output_type": "display_data"
    }
   ],
   "source": [
    "plt.plot(train_data['Price'])"
   ]
  },
  {
   "cell_type": "code",
   "execution_count": 103,
   "metadata": {},
   "outputs": [
    {
     "data": {
      "text/plain": [
       "Action & Adventure                      818\n",
       "Crime, Thriller & Mystery               723\n",
       "Biographies, Diaries & True Accounts    596\n",
       "Language, Linguistics & Writing         594\n",
       "Comics & Mangas                         583\n",
       "Romance                                 560\n",
       "Humour                                  540\n",
       "Arts, Film & Photography                517\n",
       "Computing, Internet & Digital Media     510\n",
       "Sports                                  471\n",
       "Politics                                325\n",
       "Name: BookCategory, dtype: int64"
      ]
     },
     "execution_count": 103,
     "metadata": {},
     "output_type": "execute_result"
    }
   ],
   "source": [
    "train_data['BookCategory'].value_counts()"
   ]
  },
  {
   "cell_type": "code",
   "execution_count": 104,
   "metadata": {},
   "outputs": [
    {
     "data": {
      "text/plain": [
       "Action & Adventure                      218\n",
       "Comics & Mangas                         161\n",
       "Crime, Thriller & Mystery               155\n",
       "Sports                                  143\n",
       "Romance                                 142\n",
       "Language, Linguistics & Writing         139\n",
       "Computing, Internet & Digital Media     138\n",
       "Biographies, Diaries & True Accounts    136\n",
       "Humour                                  130\n",
       "Arts, Film & Photography                121\n",
       "Politics                                 77\n",
       "Name: BookCategory, dtype: int64"
      ]
     },
     "execution_count": 104,
     "metadata": {},
     "output_type": "execute_result"
    }
   ],
   "source": [
    "test_data['BookCategory'].value_counts()"
   ]
  },
  {
   "cell_type": "code",
   "execution_count": 105,
   "metadata": {},
   "outputs": [
    {
     "data": {
      "text/plain": [
       "Action & Adventure (Books)                         947\n",
       "Romance (Books)                                    419\n",
       "Biographies & Autobiographies (Books)              373\n",
       "Crime, Thriller & Mystery (Books)                  276\n",
       "Contemporary Fiction (Books)                       256\n",
       "                                                  ... \n",
       "Economic Conditions                                  1\n",
       "Immunology                                           1\n",
       "Internal Medicine                                    1\n",
       "Children's Science, Nature & Technology (Books)      1\n",
       "Rome                                                 1\n",
       "Name: Genre, Length: 345, dtype: int64"
      ]
     },
     "execution_count": 105,
     "metadata": {},
     "output_type": "execute_result"
    }
   ],
   "source": [
    "train_data['Genre'].value_counts()"
   ]
  },
  {
   "cell_type": "code",
   "execution_count": 106,
   "metadata": {},
   "outputs": [
    {
     "data": {
      "text/plain": [
       "Action & Adventure (Books)               236\n",
       "Romance (Books)                           98\n",
       "Biographies & Autobiographies (Books)     90\n",
       "Contemporary Fiction (Books)              69\n",
       "Crime, Thriller & Mystery (Books)         59\n",
       "                                        ... \n",
       "Environmental Studies                      1\n",
       "Ethics                                     1\n",
       "International Entrance Exams               1\n",
       "Americas                                   1\n",
       "Software Architecture                      1\n",
       "Name: Genre, Length: 225, dtype: int64"
      ]
     },
     "execution_count": 106,
     "metadata": {},
     "output_type": "execute_result"
    }
   ],
   "source": [
    "test_data['Genre'].value_counts()"
   ]
  },
  {
   "cell_type": "code",
   "execution_count": 107,
   "metadata": {},
   "outputs": [],
   "source": [
    "genre=pd.get_dummies(train_data['Genre'])\n",
    "train_data=pd.concat([train_data,genre],axis=1)\n",
    "train_data.drop('Genre',axis=1,inplace=True)\n",
    "edition=pd.get_dummies(train_data['Edition'])\n",
    "train_data=pd.concat([train_data,edition],axis=1)\n",
    "train_data.drop('Edition',axis=1,inplace=True)"
   ]
  },
  {
   "cell_type": "code",
   "execution_count": 108,
   "metadata": {},
   "outputs": [],
   "source": [
    "genre=pd.get_dummies(test_data['Genre'])\n",
    "test_data=pd.concat([test_data,genre],axis=1)\n",
    "test_data.drop('Genre',axis=1,inplace=True)\n",
    "edition=pd.get_dummies(test_data['Edition'])\n",
    "test_data=pd.concat([test_data,edition],axis=1)\n",
    "test_data.drop('Edition',axis=1,inplace=True)"
   ]
  },
  {
   "cell_type": "code",
   "execution_count": 109,
   "metadata": {},
   "outputs": [],
   "source": [
    "book_category=pd.get_dummies(train_data['BookCategory'])\n",
    "train_data=pd.concat([train_data,book_category],axis=1)\n",
    "train_data.drop('BookCategory',axis=1,inplace=True)\n",
    "book_category=pd.get_dummies(test_data['BookCategory'])\n",
    "test_data=pd.concat([test_data,book_category],axis=1)\n",
    "test_data.drop('BookCategory',axis=1,inplace=True)"
   ]
  },
  {
   "cell_type": "code",
   "execution_count": 110,
   "metadata": {},
   "outputs": [],
   "source": [
    "for i in train_data.drop('Price',axis=1).columns:\n",
    "    if i not in test_data.columns:\n",
    "        test_data[i]=np.zeros(len(test_data))"
   ]
  },
  {
   "cell_type": "code",
   "execution_count": 111,
   "metadata": {},
   "outputs": [],
   "source": [
    "for i in test_data.columns:\n",
    "    if i not in train_data.columns:\n",
    "        train_data[i]=np.zeros(len(train_data))"
   ]
  },
  {
   "cell_type": "code",
   "execution_count": 112,
   "metadata": {},
   "outputs": [],
   "source": [
    "train_data.drop(['Title','Author','Synopsis'],axis=1,inplace=True)\n",
    "test_data=test_data[train_data.drop('Price',axis=1).columns]"
   ]
  },
  {
   "cell_type": "code",
   "execution_count": 113,
   "metadata": {},
   "outputs": [],
   "source": [
    "from sklearn.model_selection import train_test_split"
   ]
  },
  {
   "cell_type": "code",
   "execution_count": 114,
   "metadata": {},
   "outputs": [],
   "source": [
    "X=train_data.drop('Price',axis=1)\n",
    "y=train_data['Price']"
   ]
  },
  {
   "cell_type": "code",
   "execution_count": 115,
   "metadata": {},
   "outputs": [],
   "source": [
    "X_train,X_test,y_train,y_test=train_test_split(X,y,random_state=42,test_size=0.1)"
   ]
  },
  {
   "cell_type": "code",
   "execution_count": 116,
   "metadata": {},
   "outputs": [
    {
     "name": "stdout",
     "output_type": "stream",
     "text": [
      "5613 5613\n",
      "624 624\n"
     ]
    }
   ],
   "source": [
    "print(len(X_train),len(y_train))\n",
    "print(len(X_test),len(y_test))"
   ]
  },
  {
   "cell_type": "code",
   "execution_count": 117,
   "metadata": {},
   "outputs": [
    {
     "data": {
      "text/plain": [
       "(5613, 396)"
      ]
     },
     "execution_count": 117,
     "metadata": {},
     "output_type": "execute_result"
    }
   ],
   "source": [
    "X_train.shape"
   ]
  },
  {
   "cell_type": "code",
   "execution_count": 118,
   "metadata": {},
   "outputs": [],
   "source": [
    "model=tf.keras.Sequential([\n",
    "    tf.keras.layers.Dense(512,input_shape=(396,),activation=tf.nn.relu),\n",
    "    tf.keras.layers.Dropout(0.2),\n",
    "    tf.keras.layers.Dense(64,activation=tf.nn.relu),\n",
    "    tf.keras.layers.Dropout(0.2),\n",
    "    tf.keras.layers.Dense(16,activation=tf.nn.relu),\n",
    "    tf.keras.layers.Dropout(0.2),\n",
    "    tf.keras.layers.Dense(16,activation=tf.nn.relu),\n",
    "    tf.keras.layers.Dropout(0.2),\n",
    "    tf.keras.layers.Dense(16,activation=tf.nn.relu),\n",
    "    tf.keras.layers.Dropout(0.2),\n",
    "    tf.keras.layers.Dense(1,activation=tf.nn.relu)\n",
    "])"
   ]
  },
  {
   "cell_type": "code",
   "execution_count": 119,
   "metadata": {},
   "outputs": [
    {
     "name": "stderr",
     "output_type": "stream",
     "text": [
      "W0203 00:05:54.692254 4753026496 training.py:504] Falling back from v2 loop because of error: Failed to find data adapter that can handle input: <class 'pandas.core.frame.DataFrame'>, <class 'NoneType'>\n"
     ]
    },
    {
     "name": "stdout",
     "output_type": "stream",
     "text": [
      "Train on 5613 samples, validate on 624 samples\n",
      "Epoch 1/30\n",
      "5613/5613 [==============================] - 1s 260us/sample - loss: 455.9797 - val_loss: 321.8951\n",
      "Epoch 2/30\n",
      "5613/5613 [==============================] - 1s 187us/sample - loss: 327.9429 - val_loss: 307.6263\n",
      "Epoch 3/30\n",
      "5613/5613 [==============================] - 1s 152us/sample - loss: 310.3110 - val_loss: 313.3429\n",
      "Epoch 4/30\n",
      "5613/5613 [==============================] - 1s 153us/sample - loss: 304.9230 - val_loss: 314.2280\n",
      "Epoch 5/30\n",
      "5613/5613 [==============================] - 1s 250us/sample - loss: 298.8940 - val_loss: 299.4545\n",
      "Epoch 6/30\n",
      "5613/5613 [==============================] - 1s 206us/sample - loss: 295.0623 - val_loss: 290.0014\n",
      "Epoch 7/30\n",
      "5613/5613 [==============================] - 1s 152us/sample - loss: 293.9593 - val_loss: 295.8410\n",
      "Epoch 8/30\n",
      "5613/5613 [==============================] - 1s 133us/sample - loss: 292.0482 - val_loss: 297.9355\n",
      "Epoch 9/30\n",
      "5613/5613 [==============================] - 1s 130us/sample - loss: 288.8727 - val_loss: 296.1532\n",
      "Epoch 10/30\n",
      "5613/5613 [==============================] - 1s 140us/sample - loss: 287.9335 - val_loss: 292.8420\n",
      "Epoch 11/30\n",
      "5613/5613 [==============================] - 1s 127us/sample - loss: 286.5060 - val_loss: 291.1528\n",
      "Epoch 12/30\n",
      "5613/5613 [==============================] - 1s 128us/sample - loss: 284.8413 - val_loss: 290.9023\n",
      "Epoch 13/30\n",
      "5613/5613 [==============================] - 1s 144us/sample - loss: 282.8755 - val_loss: 297.4662\n",
      "Epoch 14/30\n",
      "5613/5613 [==============================] - 1s 159us/sample - loss: 279.8265 - val_loss: 290.7269\n",
      "Epoch 15/30\n",
      "5613/5613 [==============================] - 1s 154us/sample - loss: 280.2092 - val_loss: 301.8670\n",
      "Epoch 16/30\n",
      "5613/5613 [==============================] - 1s 134us/sample - loss: 279.2086 - val_loss: 298.4239\n",
      "Epoch 17/30\n",
      "5613/5613 [==============================] - 1s 144us/sample - loss: 278.6938 - val_loss: 295.6060\n",
      "Epoch 18/30\n",
      "5613/5613 [==============================] - 1s 165us/sample - loss: 278.6760 - val_loss: 292.8655\n",
      "Epoch 19/30\n",
      "5613/5613 [==============================] - 1s 134us/sample - loss: 279.0195 - val_loss: 303.3420\n",
      "Epoch 20/30\n",
      "5613/5613 [==============================] - 1s 138us/sample - loss: 274.7841 - val_loss: 291.1352\n",
      "Epoch 21/30\n",
      "5613/5613 [==============================] - 1s 151us/sample - loss: 276.7455 - val_loss: 305.7061\n",
      "Epoch 22/30\n",
      "5613/5613 [==============================] - 1s 171us/sample - loss: 275.8487 - val_loss: 312.6120\n",
      "Epoch 23/30\n",
      "5613/5613 [==============================] - 1s 216us/sample - loss: 275.2565 - val_loss: 295.7821\n",
      "Epoch 24/30\n",
      "5613/5613 [==============================] - 1s 154us/sample - loss: 271.6002 - val_loss: 309.1422\n",
      "Epoch 25/30\n",
      "5613/5613 [==============================] - 1s 144us/sample - loss: 275.2193 - val_loss: 303.2642\n",
      "Epoch 26/30\n",
      "5613/5613 [==============================] - 1s 156us/sample - loss: 270.6549 - val_loss: 308.2502\n",
      "Epoch 27/30\n",
      "5613/5613 [==============================] - 1s 158us/sample - loss: 268.6908 - val_loss: 300.5739\n",
      "Epoch 28/30\n",
      "5613/5613 [==============================] - 1s 141us/sample - loss: 273.7347 - val_loss: 302.1982\n",
      "Epoch 29/30\n",
      "5613/5613 [==============================] - 1s 156us/sample - loss: 273.9361 - val_loss: 300.0673\n",
      "Epoch 30/30\n",
      "5613/5613 [==============================] - 1s 150us/sample - loss: 269.2927 - val_loss: 306.9019\n"
     ]
    }
   ],
   "source": [
    "model.compile(optimizer='adam',loss='mae')\n",
    "z1=model.fit(X_train,y_train,epochs=30,validation_data=(X_test,y_test))"
   ]
  },
  {
   "cell_type": "code",
   "execution_count": 120,
   "metadata": {},
   "outputs": [
    {
     "data": {
      "text/plain": [
       "<matplotlib.legend.Legend at 0x15016c6a0>"
      ]
     },
     "execution_count": 120,
     "metadata": {},
     "output_type": "execute_result"
    },
    {
     "data": {
      "image/png": "[encoded data removed]",
      "text/plain": [
       "<Figure size 432x288 with 1 Axes>"
      ]
     },
     "metadata": {
      "needs_background": "light"
     },
     "output_type": "display_data"
    }
   ],
   "source": [
    "plt.figure()\n",
    "plt.plot(z1.history['loss'],'r',label='train Loss')\n",
    "plt.plot(z1.history['val_loss'],'b',label='val loss')\n",
    "plt.legend()"
   ]
  },
  {
   "cell_type": "code",
   "execution_count": null,
   "metadata": {},
   "outputs": [],
   "source": []
  }
 ],
 "metadata": {
  "kernelspec": {
   "display_name": "Python 3",
   "language": "python",
   "name": "python3"
  },
  "language_info": {
   "codemirror_mode": {
    "name": "ipython",
    "version": 3
   },
   "file_extension": ".py",
   "mimetype": "text/x-python",
   "name": "python",
   "nbconvert_exporter": "python",
   "pygments_lexer": "ipython3",
   "version": "3.6.9"
  }
 },
 "nbformat": 4,
 "nbformat_minor": 2
}
