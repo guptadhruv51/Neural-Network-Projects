{
 "cells": [
  {
   "cell_type": "code",
   "execution_count": 8,
   "metadata": {},
   "outputs": [
    {
     "name": "stdout",
     "output_type": "stream",
     "text": [
      "2.0.0\n"
     ]
    }
   ],
   "source": [
    "import tensorflow as tf\n",
    "import tensorflow_datasets as tfds\n",
    "import numpy as np\n",
    "from tensorflow.keras.preprocessing.text import Tokenizer\n",
    "from tensorflow.keras.preprocessing.sequence import pad_sequences\n",
    "print(tf.__version__)\n",
    "import matplotlib.pyplot as plt"
   ]
  },
  {
   "cell_type": "code",
   "execution_count": 9,
   "metadata": {},
   "outputs": [],
   "source": [
    "imdb,info=tfds.load(\"imdb_reviews\",with_info=True,as_supervised=True)"
   ]
  },
  {
   "cell_type": "code",
   "execution_count": null,
   "metadata": {},
   "outputs": [],
   "source": []
  },
  {
   "cell_type": "code",
   "execution_count": 10,
   "metadata": {},
   "outputs": [],
   "source": [
    "train,test=imdb['train'],imdb['test']"
   ]
  },
  {
   "cell_type": "code",
   "execution_count": 11,
   "metadata": {},
   "outputs": [],
   "source": [
    "training_sentences=[]\n",
    "train_labels=[]\n",
    "test_sentences=[]\n",
    "test_labels=[]"
   ]
  },
  {
   "cell_type": "code",
   "execution_count": 12,
   "metadata": {},
   "outputs": [
    {
     "name": "stdout",
     "output_type": "stream",
     "text": [
      "25000 25000\n",
      "25000 25000\n"
     ]
    }
   ],
   "source": [
    "for s,l in train:\n",
    "    training_sentences.append(str(s.numpy()))\n",
    "    train_labels.append(l.numpy())\n",
    "for s,l in test:\n",
    "    test_sentences.append(str(s.numpy()))\n",
    "    test_labels.append(l.numpy())\n",
    "print(len(training_sentences),len(train_labels))\n",
    "print(len(test_sentences),len(test_labels))"
   ]
  },
  {
   "cell_type": "code",
   "execution_count": 13,
   "metadata": {},
   "outputs": [],
   "source": [
    "train_labels=np.asarray(train_labels)\n",
    "test_labels=np.asarray(test_labels)"
   ]
  },
  {
   "cell_type": "code",
   "execution_count": 14,
   "metadata": {},
   "outputs": [],
   "source": [
    "vocab_size=10000\n",
    "max_length=300\n",
    "embedding_dim=16\n",
    "oov_token='<OOV>'\n",
    "trunc_type='post'\n",
    "tokenizer=Tokenizer(num_words=vocab_size,oov_token=oov_token)\n",
    "tokenizer.fit_on_texts(training_sentences)\n",
    "word_index=tokenizer.word_index\n",
    "train_sequences=tokenizer.texts_to_sequences(training_sentences)\n",
    "train_padded=pad_sequences(train_sequences,maxlen=max_length,truncating=trunc_type)\n",
    "test_sequences=tokenizer.texts_to_sequences(test_sentences)\n",
    "test_padded=pad_sequences(test_sequences,maxlen=max_length,truncating=trunc_type)"
   ]
  },
  {
   "cell_type": "code",
   "execution_count": 15,
   "metadata": {},
   "outputs": [],
   "source": [
    "model=tf.keras.Sequential([\n",
    "    tf.keras.layers.Embedding(vocab_size,embedding_dim,input_length=max_length),\n",
    "    tf.keras.layers.Flatten(),\n",
    "    tf.keras.layers.Dense(6,activation=tf.nn.relu),\n",
    "    tf.keras.layers.Dense(1,activation=tf.nn.sigmoid)\n",
    "])"
   ]
  },
  {
   "cell_type": "code",
   "execution_count": 16,
   "metadata": {},
   "outputs": [
    {
     "name": "stdout",
     "output_type": "stream",
     "text": [
      "Model: \"sequential\"\n",
      "_________________________________________________________________\n",
      "Layer (type)                 Output Shape              Param #   \n",
      "=================================================================\n",
      "embedding (Embedding)        (None, 300, 16)           160000    \n",
      "_________________________________________________________________\n",
      "flatten (Flatten)            (None, 4800)              0         \n",
      "_________________________________________________________________\n",
      "dense (Dense)                (None, 6)                 28806     \n",
      "_________________________________________________________________\n",
      "dense_1 (Dense)              (None, 1)                 7         \n",
      "=================================================================\n",
      "Total params: 188,813\n",
      "Trainable params: 188,813\n",
      "Non-trainable params: 0\n",
      "_________________________________________________________________\n"
     ]
    }
   ],
   "source": [
    "model.summary()"
   ]
  },
  {
   "cell_type": "code",
   "execution_count": 17,
   "metadata": {},
   "outputs": [],
   "source": [
    "model.compile(optimizer='rmsprop',loss='binary_crossentropy',metrics=['accuracy'])"
   ]
  },
  {
   "cell_type": "code",
   "execution_count": null,
   "metadata": {},
   "outputs": [
    {
     "name": "stdout",
     "output_type": "stream",
     "text": [
      "Train on 25000 samples, validate on 25000 samples\n",
      "Epoch 1/10\n",
      "25000/25000 [==============================] - 7s 288us/sample - loss: 0.4949 - accuracy: 0.7438 - val_loss: 0.3294 - val_accuracy: 0.8568\n",
      "Epoch 2/10\n",
      "25000/25000 [==============================] - 6s 226us/sample - loss: 0.2506 - accuracy: 0.8972 - val_loss: 0.3046 - val_accuracy: 0.8732\n",
      "Epoch 3/10\n",
      "25000/25000 [==============================] - 6s 226us/sample - loss: 0.1819 - accuracy: 0.9320 - val_loss: 0.3159 - val_accuracy: 0.8712\n",
      "Epoch 4/10\n",
      " 3776/25000 [===>..........................] - ETA: 3s - loss: 0.1200 - accuracy: 0.9619"
     ]
    }
   ],
   "source": [
    "z1=model.fit(train_padded,train_labels,epochs=10,validation_data=(test_padded,test_labels))"
   ]
  },
  {
   "cell_type": "code",
   "execution_count": null,
   "metadata": {},
   "outputs": [],
   "source": [
    "model=tf.keras.Sequential([\n",
    "    tf.keras.layers.Embedding(vocab_size,embedding_dim,input_length=max_length),\n",
    "    tf.keras.layers.GlobalAveragePooling1D(),\n",
    "    tf.keras.layers.Dense(6,activation=tf.nn.relu),\n",
    "    tf.keras.layers.Dense(1,activation=tf.nn.sigmoid)\n",
    "])"
   ]
  },
  {
   "cell_type": "code",
   "execution_count": null,
   "metadata": {},
   "outputs": [],
   "source": [
    "model.summary()"
   ]
  },
  {
   "cell_type": "code",
   "execution_count": null,
   "metadata": {},
   "outputs": [],
   "source": [
    "model.compile(optimizer='rmsprop',loss='binary_crossentropy',metrics=['accuracy'])"
   ]
  },
  {
   "cell_type": "code",
   "execution_count": null,
   "metadata": {},
   "outputs": [],
   "source": [
    "z2=model.fit(train_padded,train_labels,epochs=10,validation_data=(test_padded,test_labels))"
   ]
  },
  {
   "cell_type": "code",
   "execution_count": null,
   "metadata": {},
   "outputs": [],
   "source": [
    "plt.plot(z1.history['accuracy'],'r',label='train_accuracy')\n",
    "plt.plot(z1.history['val_accuracy'],label='test_accuracy')\n",
    "plt.legend()\n",
    "plt.title(\"Using Flatten\")"
   ]
  },
  {
   "cell_type": "code",
   "execution_count": null,
   "metadata": {},
   "outputs": [],
   "source": [
    "plt.plot(z2.history['accuracy'],'r',label='train_accuracy')\n",
    "plt.plot(z2.history['val_accuracy'],label='test_accuracy')\n",
    "plt.legend()\n",
    "plt.title(\"Using Global Average\")"
   ]
  },
  {
   "cell_type": "code",
   "execution_count": 58,
   "metadata": {},
   "outputs": [
    {
     "name": "stdout",
     "output_type": "stream",
     "text": [
      "(10000, 16)\n"
     ]
    }
   ],
   "source": [
    "e=model.layers[0]\n",
    "weights=e.get_weights()[0]\n",
    "print(weights.shape) #shape (vocab_size,embeddings)"
   ]
  },
  {
   "cell_type": "code",
   "execution_count": 62,
   "metadata": {},
   "outputs": [],
   "source": [
    "reversed_word_index=dict([(value,key) for (key,value) in word_index.items()])"
   ]
  },
  {
   "cell_type": "code",
   "execution_count": 64,
   "metadata": {},
   "outputs": [],
   "source": [
    "import io"
   ]
  },
  {
   "cell_type": "code",
   "execution_count": 67,
   "metadata": {},
   "outputs": [],
   "source": [
    "out_v=io.open('vecs.tsv',mode='w',encoding='utf-8')\n",
    "out_m=io.open('meta.tsv',mode='w',encoding='utf-8')\n",
    "for i in range(1,vocab_size):\n",
    "    word=reversed_word_index[i]\n",
    "    embeddings=weights[i]\n",
    "    out_v.write('/t'.join([str(x) for x in embeddings])+'/n')\n",
    "    out_m.write(word+'\\n')\n",
    "out_v.close()\n",
    "out_m.close()"
   ]
  },
  {
   "cell_type": "code",
   "execution_count": null,
   "metadata": {},
   "outputs": [],
   "source": []
  }
 ],
 "metadata": {
  "kernelspec": {
   "display_name": "Python 3",
   "language": "python",
   "name": "python3"
  },
  "language_info": {
   "codemirror_mode": {
    "name": "ipython",
    "version": 3
   },
   "file_extension": ".py",
   "mimetype": "text/x-python",
   "name": "python",
   "nbconvert_exporter": "python",
   "pygments_lexer": "ipython3",
   "version": "3.6.9"
  }
 },
 "nbformat": 4,
 "nbformat_minor": 2
}
